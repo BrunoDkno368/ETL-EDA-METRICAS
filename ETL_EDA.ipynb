{
  "nbformat": 4,
  "nbformat_minor": 0,
  "metadata": {
    "colab": {
      "provenance": [],
      "toc_visible": true,
      "mount_file_id": "16FhRf8y3VTWxCTcZrhj0gvOKypjqWwfD",
      "authorship_tag": "ABX9TyMGsJX3MbTbpyJyUGWZy365",
      "include_colab_link": true
    },
    "kernelspec": {
      "name": "python3",
      "display_name": "Python 3"
    },
    "language_info": {
      "name": "python"
    }
  },
  "cells": [
    {
      "cell_type": "markdown",
      "metadata": {
        "id": "view-in-github",
        "colab_type": "text"
      },
      "source": [
        "<a href=\"https://colab.research.google.com/github/BrunoDkno368/ETL-EDA-METRICAS/blob/main/ETL_EDA.ipynb\" target=\"_parent\"><img src=\"https://colab.research.google.com/assets/colab-badge.svg\" alt=\"Open In Colab\"/></a>"
      ]
    },
    {
      "cell_type": "markdown",
      "source": [
        "# ETL"
      ],
      "metadata": {
        "id": "XOIXVwLqvvxb"
      }
    },
    {
      "cell_type": "code",
      "execution_count": 58,
      "metadata": {
        "id": "k9kA4mZEqjtI"
      },
      "outputs": [],
      "source": [
        "import pandas as pd\n",
        "import numpy as np\n",
        "import seaborn as sns\n",
        "import matplotlib.pyplot as plt"
      ]
    },
    {
      "cell_type": "markdown",
      "source": [
        "## 1 - EXTRAT (E)"
      ],
      "metadata": {
        "id": "FsHHnMFyv9gS"
      }
    },
    {
      "cell_type": "code",
      "source": [
        "df= pd.read_csv('/content/drive/MyDrive/EDA practica/ventas_reglas_negocio.csv')\n",
        "df.head()"
      ],
      "metadata": {
        "colab": {
          "base_uri": "https://localhost:8080/",
          "height": 206
        },
        "id": "MXuRbnxmvDJj",
        "outputId": "91fda60d-6760-4edd-805d-b4ba2a148094"
      },
      "execution_count": 4,
      "outputs": [
        {
          "output_type": "execute_result",
          "data": {
            "text/plain": [
              "   id_venta       fecha                      cliente     producto   categoria  \\\n",
              "0         1  2025-07-27                 Enrique Cabo  Silla Gamer     Muebles   \n",
              "1         2  2023-01-22  Eufemia Montalbán Caballero       Tablet  Tecnología   \n",
              "2         3  2025-05-02            Vilma Salom Jover    Impresora     Oficina   \n",
              "3         4  2024-07-16    Trinidad Caparrós Piñeiro   Escritorio     Muebles   \n",
              "4         5  2025-02-27        Óscar Cabello Mayoral  Auriculares  Tecnología   \n",
              "\n",
              "   cantidad  precio_unitario  descuento    metodo_pago        ciudad  \\\n",
              "0         2          1779.67       0.01       tarjerta       Córdoba   \n",
              "1        10           849.01       0.36       Efectivo  Buenos Aires   \n",
              "2         2          1089.76       0.10  Transferencia           NaN   \n",
              "3         6          1740.51       0.31  Transferencia       Mendoza   \n",
              "4         3          1123.14       0.06        Tarjeta       Mendoza   \n",
              "\n",
              "   total_venta  \n",
              "0      3523.75  \n",
              "1      5433.66  \n",
              "2      1961.57  \n",
              "3      7205.71  \n",
              "4      3167.25  "
            ],
            "text/html": [
              "\n",
              "  <div id=\"df-c900d4f0-1046-4941-a33d-62cd7a6ed237\" class=\"colab-df-container\">\n",
              "    <div>\n",
              "<style scoped>\n",
              "    .dataframe tbody tr th:only-of-type {\n",
              "        vertical-align: middle;\n",
              "    }\n",
              "\n",
              "    .dataframe tbody tr th {\n",
              "        vertical-align: top;\n",
              "    }\n",
              "\n",
              "    .dataframe thead th {\n",
              "        text-align: right;\n",
              "    }\n",
              "</style>\n",
              "<table border=\"1\" class=\"dataframe\">\n",
              "  <thead>\n",
              "    <tr style=\"text-align: right;\">\n",
              "      <th></th>\n",
              "      <th>id_venta</th>\n",
              "      <th>fecha</th>\n",
              "      <th>cliente</th>\n",
              "      <th>producto</th>\n",
              "      <th>categoria</th>\n",
              "      <th>cantidad</th>\n",
              "      <th>precio_unitario</th>\n",
              "      <th>descuento</th>\n",
              "      <th>metodo_pago</th>\n",
              "      <th>ciudad</th>\n",
              "      <th>total_venta</th>\n",
              "    </tr>\n",
              "  </thead>\n",
              "  <tbody>\n",
              "    <tr>\n",
              "      <th>0</th>\n",
              "      <td>1</td>\n",
              "      <td>2025-07-27</td>\n",
              "      <td>Enrique Cabo</td>\n",
              "      <td>Silla Gamer</td>\n",
              "      <td>Muebles</td>\n",
              "      <td>2</td>\n",
              "      <td>1779.67</td>\n",
              "      <td>0.01</td>\n",
              "      <td>tarjerta</td>\n",
              "      <td>Córdoba</td>\n",
              "      <td>3523.75</td>\n",
              "    </tr>\n",
              "    <tr>\n",
              "      <th>1</th>\n",
              "      <td>2</td>\n",
              "      <td>2023-01-22</td>\n",
              "      <td>Eufemia Montalbán Caballero</td>\n",
              "      <td>Tablet</td>\n",
              "      <td>Tecnología</td>\n",
              "      <td>10</td>\n",
              "      <td>849.01</td>\n",
              "      <td>0.36</td>\n",
              "      <td>Efectivo</td>\n",
              "      <td>Buenos Aires</td>\n",
              "      <td>5433.66</td>\n",
              "    </tr>\n",
              "    <tr>\n",
              "      <th>2</th>\n",
              "      <td>3</td>\n",
              "      <td>2025-05-02</td>\n",
              "      <td>Vilma Salom Jover</td>\n",
              "      <td>Impresora</td>\n",
              "      <td>Oficina</td>\n",
              "      <td>2</td>\n",
              "      <td>1089.76</td>\n",
              "      <td>0.10</td>\n",
              "      <td>Transferencia</td>\n",
              "      <td>NaN</td>\n",
              "      <td>1961.57</td>\n",
              "    </tr>\n",
              "    <tr>\n",
              "      <th>3</th>\n",
              "      <td>4</td>\n",
              "      <td>2024-07-16</td>\n",
              "      <td>Trinidad Caparrós Piñeiro</td>\n",
              "      <td>Escritorio</td>\n",
              "      <td>Muebles</td>\n",
              "      <td>6</td>\n",
              "      <td>1740.51</td>\n",
              "      <td>0.31</td>\n",
              "      <td>Transferencia</td>\n",
              "      <td>Mendoza</td>\n",
              "      <td>7205.71</td>\n",
              "    </tr>\n",
              "    <tr>\n",
              "      <th>4</th>\n",
              "      <td>5</td>\n",
              "      <td>2025-02-27</td>\n",
              "      <td>Óscar Cabello Mayoral</td>\n",
              "      <td>Auriculares</td>\n",
              "      <td>Tecnología</td>\n",
              "      <td>3</td>\n",
              "      <td>1123.14</td>\n",
              "      <td>0.06</td>\n",
              "      <td>Tarjeta</td>\n",
              "      <td>Mendoza</td>\n",
              "      <td>3167.25</td>\n",
              "    </tr>\n",
              "  </tbody>\n",
              "</table>\n",
              "</div>\n",
              "    <div class=\"colab-df-buttons\">\n",
              "\n",
              "  <div class=\"colab-df-container\">\n",
              "    <button class=\"colab-df-convert\" onclick=\"convertToInteractive('df-c900d4f0-1046-4941-a33d-62cd7a6ed237')\"\n",
              "            title=\"Convert this dataframe to an interactive table.\"\n",
              "            style=\"display:none;\">\n",
              "\n",
              "  <svg xmlns=\"http://www.w3.org/2000/svg\" height=\"24px\" viewBox=\"0 -960 960 960\">\n",
              "    <path d=\"M120-120v-720h720v720H120Zm60-500h600v-160H180v160Zm220 220h160v-160H400v160Zm0 220h160v-160H400v160ZM180-400h160v-160H180v160Zm440 0h160v-160H620v160ZM180-180h160v-160H180v160Zm440 0h160v-160H620v160Z\"/>\n",
              "  </svg>\n",
              "    </button>\n",
              "\n",
              "  <style>\n",
              "    .colab-df-container {\n",
              "      display:flex;\n",
              "      gap: 12px;\n",
              "    }\n",
              "\n",
              "    .colab-df-convert {\n",
              "      background-color: #E8F0FE;\n",
              "      border: none;\n",
              "      border-radius: 50%;\n",
              "      cursor: pointer;\n",
              "      display: none;\n",
              "      fill: #1967D2;\n",
              "      height: 32px;\n",
              "      padding: 0 0 0 0;\n",
              "      width: 32px;\n",
              "    }\n",
              "\n",
              "    .colab-df-convert:hover {\n",
              "      background-color: #E2EBFA;\n",
              "      box-shadow: 0px 1px 2px rgba(60, 64, 67, 0.3), 0px 1px 3px 1px rgba(60, 64, 67, 0.15);\n",
              "      fill: #174EA6;\n",
              "    }\n",
              "\n",
              "    .colab-df-buttons div {\n",
              "      margin-bottom: 4px;\n",
              "    }\n",
              "\n",
              "    [theme=dark] .colab-df-convert {\n",
              "      background-color: #3B4455;\n",
              "      fill: #D2E3FC;\n",
              "    }\n",
              "\n",
              "    [theme=dark] .colab-df-convert:hover {\n",
              "      background-color: #434B5C;\n",
              "      box-shadow: 0px 1px 3px 1px rgba(0, 0, 0, 0.15);\n",
              "      filter: drop-shadow(0px 1px 2px rgba(0, 0, 0, 0.3));\n",
              "      fill: #FFFFFF;\n",
              "    }\n",
              "  </style>\n",
              "\n",
              "    <script>\n",
              "      const buttonEl =\n",
              "        document.querySelector('#df-c900d4f0-1046-4941-a33d-62cd7a6ed237 button.colab-df-convert');\n",
              "      buttonEl.style.display =\n",
              "        google.colab.kernel.accessAllowed ? 'block' : 'none';\n",
              "\n",
              "      async function convertToInteractive(key) {\n",
              "        const element = document.querySelector('#df-c900d4f0-1046-4941-a33d-62cd7a6ed237');\n",
              "        const dataTable =\n",
              "          await google.colab.kernel.invokeFunction('convertToInteractive',\n",
              "                                                    [key], {});\n",
              "        if (!dataTable) return;\n",
              "\n",
              "        const docLinkHtml = 'Like what you see? Visit the ' +\n",
              "          '<a target=\"_blank\" href=https://colab.research.google.com/notebooks/data_table.ipynb>data table notebook</a>'\n",
              "          + ' to learn more about interactive tables.';\n",
              "        element.innerHTML = '';\n",
              "        dataTable['output_type'] = 'display_data';\n",
              "        await google.colab.output.renderOutput(dataTable, element);\n",
              "        const docLink = document.createElement('div');\n",
              "        docLink.innerHTML = docLinkHtml;\n",
              "        element.appendChild(docLink);\n",
              "      }\n",
              "    </script>\n",
              "  </div>\n",
              "\n",
              "\n",
              "    <div id=\"df-7d02c7ae-94f6-45aa-abd6-4c0e8d62f20f\">\n",
              "      <button class=\"colab-df-quickchart\" onclick=\"quickchart('df-7d02c7ae-94f6-45aa-abd6-4c0e8d62f20f')\"\n",
              "                title=\"Suggest charts\"\n",
              "                style=\"display:none;\">\n",
              "\n",
              "<svg xmlns=\"http://www.w3.org/2000/svg\" height=\"24px\"viewBox=\"0 0 24 24\"\n",
              "     width=\"24px\">\n",
              "    <g>\n",
              "        <path d=\"M19 3H5c-1.1 0-2 .9-2 2v14c0 1.1.9 2 2 2h14c1.1 0 2-.9 2-2V5c0-1.1-.9-2-2-2zM9 17H7v-7h2v7zm4 0h-2V7h2v10zm4 0h-2v-4h2v4z\"/>\n",
              "    </g>\n",
              "</svg>\n",
              "      </button>\n",
              "\n",
              "<style>\n",
              "  .colab-df-quickchart {\n",
              "      --bg-color: #E8F0FE;\n",
              "      --fill-color: #1967D2;\n",
              "      --hover-bg-color: #E2EBFA;\n",
              "      --hover-fill-color: #174EA6;\n",
              "      --disabled-fill-color: #AAA;\n",
              "      --disabled-bg-color: #DDD;\n",
              "  }\n",
              "\n",
              "  [theme=dark] .colab-df-quickchart {\n",
              "      --bg-color: #3B4455;\n",
              "      --fill-color: #D2E3FC;\n",
              "      --hover-bg-color: #434B5C;\n",
              "      --hover-fill-color: #FFFFFF;\n",
              "      --disabled-bg-color: #3B4455;\n",
              "      --disabled-fill-color: #666;\n",
              "  }\n",
              "\n",
              "  .colab-df-quickchart {\n",
              "    background-color: var(--bg-color);\n",
              "    border: none;\n",
              "    border-radius: 50%;\n",
              "    cursor: pointer;\n",
              "    display: none;\n",
              "    fill: var(--fill-color);\n",
              "    height: 32px;\n",
              "    padding: 0;\n",
              "    width: 32px;\n",
              "  }\n",
              "\n",
              "  .colab-df-quickchart:hover {\n",
              "    background-color: var(--hover-bg-color);\n",
              "    box-shadow: 0 1px 2px rgba(60, 64, 67, 0.3), 0 1px 3px 1px rgba(60, 64, 67, 0.15);\n",
              "    fill: var(--button-hover-fill-color);\n",
              "  }\n",
              "\n",
              "  .colab-df-quickchart-complete:disabled,\n",
              "  .colab-df-quickchart-complete:disabled:hover {\n",
              "    background-color: var(--disabled-bg-color);\n",
              "    fill: var(--disabled-fill-color);\n",
              "    box-shadow: none;\n",
              "  }\n",
              "\n",
              "  .colab-df-spinner {\n",
              "    border: 2px solid var(--fill-color);\n",
              "    border-color: transparent;\n",
              "    border-bottom-color: var(--fill-color);\n",
              "    animation:\n",
              "      spin 1s steps(1) infinite;\n",
              "  }\n",
              "\n",
              "  @keyframes spin {\n",
              "    0% {\n",
              "      border-color: transparent;\n",
              "      border-bottom-color: var(--fill-color);\n",
              "      border-left-color: var(--fill-color);\n",
              "    }\n",
              "    20% {\n",
              "      border-color: transparent;\n",
              "      border-left-color: var(--fill-color);\n",
              "      border-top-color: var(--fill-color);\n",
              "    }\n",
              "    30% {\n",
              "      border-color: transparent;\n",
              "      border-left-color: var(--fill-color);\n",
              "      border-top-color: var(--fill-color);\n",
              "      border-right-color: var(--fill-color);\n",
              "    }\n",
              "    40% {\n",
              "      border-color: transparent;\n",
              "      border-right-color: var(--fill-color);\n",
              "      border-top-color: var(--fill-color);\n",
              "    }\n",
              "    60% {\n",
              "      border-color: transparent;\n",
              "      border-right-color: var(--fill-color);\n",
              "    }\n",
              "    80% {\n",
              "      border-color: transparent;\n",
              "      border-right-color: var(--fill-color);\n",
              "      border-bottom-color: var(--fill-color);\n",
              "    }\n",
              "    90% {\n",
              "      border-color: transparent;\n",
              "      border-bottom-color: var(--fill-color);\n",
              "    }\n",
              "  }\n",
              "</style>\n",
              "\n",
              "      <script>\n",
              "        async function quickchart(key) {\n",
              "          const quickchartButtonEl =\n",
              "            document.querySelector('#' + key + ' button');\n",
              "          quickchartButtonEl.disabled = true;  // To prevent multiple clicks.\n",
              "          quickchartButtonEl.classList.add('colab-df-spinner');\n",
              "          try {\n",
              "            const charts = await google.colab.kernel.invokeFunction(\n",
              "                'suggestCharts', [key], {});\n",
              "          } catch (error) {\n",
              "            console.error('Error during call to suggestCharts:', error);\n",
              "          }\n",
              "          quickchartButtonEl.classList.remove('colab-df-spinner');\n",
              "          quickchartButtonEl.classList.add('colab-df-quickchart-complete');\n",
              "        }\n",
              "        (() => {\n",
              "          let quickchartButtonEl =\n",
              "            document.querySelector('#df-7d02c7ae-94f6-45aa-abd6-4c0e8d62f20f button');\n",
              "          quickchartButtonEl.style.display =\n",
              "            google.colab.kernel.accessAllowed ? 'block' : 'none';\n",
              "        })();\n",
              "      </script>\n",
              "    </div>\n",
              "\n",
              "    </div>\n",
              "  </div>\n"
            ],
            "application/vnd.google.colaboratory.intrinsic+json": {
              "type": "dataframe",
              "variable_name": "df",
              "summary": "{\n  \"name\": \"df\",\n  \"rows\": 2000,\n  \"fields\": [\n    {\n      \"column\": \"id_venta\",\n      \"properties\": {\n        \"dtype\": \"number\",\n        \"std\": 577,\n        \"min\": 1,\n        \"max\": 2000,\n        \"num_unique_values\": 1942,\n        \"samples\": [\n          1657,\n          1131,\n          72\n        ],\n        \"semantic_type\": \"\",\n        \"description\": \"\"\n      }\n    },\n    {\n      \"column\": \"fecha\",\n      \"properties\": {\n        \"dtype\": \"object\",\n        \"num_unique_values\": 860,\n        \"samples\": [\n          \"2025-08-29\",\n          \"2025-02-12\",\n          \"2023-06-13\"\n        ],\n        \"semantic_type\": \"\",\n        \"description\": \"\"\n      }\n    },\n    {\n      \"column\": \"cliente\",\n      \"properties\": {\n        \"dtype\": \"string\",\n        \"num_unique_values\": 1912,\n        \"samples\": [\n          \"Jovita Monta\\u00f1a-Piquer\",\n          \"Pepe Bautista Ojeda Garc\\u00e9s\",\n          \"Jos\\u00e9 M\\u00e1rmol Pulido\"\n        ],\n        \"semantic_type\": \"\",\n        \"description\": \"\"\n      }\n    },\n    {\n      \"column\": \"producto\",\n      \"properties\": {\n        \"dtype\": \"category\",\n        \"num_unique_values\": 10,\n        \"samples\": [\n          \"Teclado\",\n          \"Tablet\",\n          \"Celular\"\n        ],\n        \"semantic_type\": \"\",\n        \"description\": \"\"\n      }\n    },\n    {\n      \"column\": \"categoria\",\n      \"properties\": {\n        \"dtype\": \"category\",\n        \"num_unique_values\": 4,\n        \"samples\": [\n          \"Tecnolog\\u00eda\",\n          \"Electr\\u00f3nica\",\n          \"Muebles\"\n        ],\n        \"semantic_type\": \"\",\n        \"description\": \"\"\n      }\n    },\n    {\n      \"column\": \"cantidad\",\n      \"properties\": {\n        \"dtype\": \"number\",\n        \"std\": 2,\n        \"min\": 1,\n        \"max\": 10,\n        \"num_unique_values\": 10,\n        \"samples\": [\n          1,\n          10,\n          9\n        ],\n        \"semantic_type\": \"\",\n        \"description\": \"\"\n      }\n    },\n    {\n      \"column\": \"precio_unitario\",\n      \"properties\": {\n        \"dtype\": \"number\",\n        \"std\": 870.1055820019221,\n        \"min\": 21.05,\n        \"max\": 2997.44,\n        \"num_unique_values\": 1936,\n        \"samples\": [\n          2499.52,\n          870.07,\n          810.55\n        ],\n        \"semantic_type\": \"\",\n        \"description\": \"\"\n      }\n    },\n    {\n      \"column\": \"descuento\",\n      \"properties\": {\n        \"dtype\": \"number\",\n        \"std\": 0.10105531638943871,\n        \"min\": 0.0,\n        \"max\": 0.4,\n        \"num_unique_values\": 41,\n        \"samples\": [\n          0.08,\n          0.12,\n          0.33\n        ],\n        \"semantic_type\": \"\",\n        \"description\": \"\"\n      }\n    },\n    {\n      \"column\": \"metodo_pago\",\n      \"properties\": {\n        \"dtype\": \"category\",\n        \"num_unique_values\": 4,\n        \"samples\": [\n          \"Efectivo\",\n          \"Tarjeta\",\n          \"tarjerta\"\n        ],\n        \"semantic_type\": \"\",\n        \"description\": \"\"\n      }\n    },\n    {\n      \"column\": \"ciudad\",\n      \"properties\": {\n        \"dtype\": \"category\",\n        \"num_unique_values\": 6,\n        \"samples\": [\n          \"C\\u00f3rdoba\",\n          \"Buenos Aires\",\n          \"Rosario\"\n        ],\n        \"semantic_type\": \"\",\n        \"description\": \"\"\n      }\n    },\n    {\n      \"column\": \"total_venta\",\n      \"properties\": {\n        \"dtype\": \"number\",\n        \"std\": 5172.483325632034,\n        \"min\": 30.58,\n        \"max\": 25641.97,\n        \"num_unique_values\": 1999,\n        \"samples\": [\n          1122.87,\n          385.15,\n          1022.17\n        ],\n        \"semantic_type\": \"\",\n        \"description\": \"\"\n      }\n    }\n  ]\n}"
            }
          },
          "metadata": {},
          "execution_count": 4
        }
      ]
    },
    {
      "cell_type": "markdown",
      "source": [
        "## 2 - TRASNFORM (T)"
      ],
      "metadata": {
        "id": "JfgDmDJVwEyi"
      }
    },
    {
      "cell_type": "markdown",
      "source": [
        "### ELIMINAR DUPLICADOS"
      ],
      "metadata": {
        "id": "Obwp0nXhwjkZ"
      }
    },
    {
      "cell_type": "code",
      "source": [
        "df.info()"
      ],
      "metadata": {
        "colab": {
          "base_uri": "https://localhost:8080/"
        },
        "id": "Yoh50GL0wtlJ",
        "outputId": "34bd3506-dfe5-4797-dd58-29780ba1e597"
      },
      "execution_count": 5,
      "outputs": [
        {
          "output_type": "stream",
          "name": "stdout",
          "text": [
            "<class 'pandas.core.frame.DataFrame'>\n",
            "RangeIndex: 2000 entries, 0 to 1999\n",
            "Data columns (total 11 columns):\n",
            " #   Column           Non-Null Count  Dtype  \n",
            "---  ------           --------------  -----  \n",
            " 0   id_venta         2000 non-null   int64  \n",
            " 1   fecha            1951 non-null   object \n",
            " 2   cliente          1912 non-null   object \n",
            " 3   producto         2000 non-null   object \n",
            " 4   categoria        1911 non-null   object \n",
            " 5   cantidad         2000 non-null   int64  \n",
            " 6   precio_unitario  1942 non-null   float64\n",
            " 7   descuento        1901 non-null   float64\n",
            " 8   metodo_pago      1585 non-null   object \n",
            " 9   ciudad           1704 non-null   object \n",
            " 10  total_venta      2000 non-null   float64\n",
            "dtypes: float64(3), int64(2), object(6)\n",
            "memory usage: 172.0+ KB\n"
          ]
        }
      ]
    },
    {
      "cell_type": "code",
      "source": [
        "df = df.drop_duplicates()"
      ],
      "metadata": {
        "id": "gm_yHKBpvDGz"
      },
      "execution_count": 6,
      "outputs": []
    },
    {
      "cell_type": "code",
      "source": [
        "df.info()"
      ],
      "metadata": {
        "colab": {
          "base_uri": "https://localhost:8080/"
        },
        "id": "S5navLZ4vDD7",
        "outputId": "1b2d1ed7-9886-4e9c-cb51-8d727cc916cd"
      },
      "execution_count": 7,
      "outputs": [
        {
          "output_type": "stream",
          "name": "stdout",
          "text": [
            "<class 'pandas.core.frame.DataFrame'>\n",
            "RangeIndex: 2000 entries, 0 to 1999\n",
            "Data columns (total 11 columns):\n",
            " #   Column           Non-Null Count  Dtype  \n",
            "---  ------           --------------  -----  \n",
            " 0   id_venta         2000 non-null   int64  \n",
            " 1   fecha            1951 non-null   object \n",
            " 2   cliente          1912 non-null   object \n",
            " 3   producto         2000 non-null   object \n",
            " 4   categoria        1911 non-null   object \n",
            " 5   cantidad         2000 non-null   int64  \n",
            " 6   precio_unitario  1942 non-null   float64\n",
            " 7   descuento        1901 non-null   float64\n",
            " 8   metodo_pago      1585 non-null   object \n",
            " 9   ciudad           1704 non-null   object \n",
            " 10  total_venta      2000 non-null   float64\n",
            "dtypes: float64(3), int64(2), object(6)\n",
            "memory usage: 172.0+ KB\n"
          ]
        }
      ]
    },
    {
      "cell_type": "markdown",
      "source": [
        "### MANEJO DE VALORES NULOS"
      ],
      "metadata": {
        "id": "2uzrxLMyxAWA"
      }
    },
    {
      "cell_type": "markdown",
      "source": [
        "#### EN CATEGORIA NaN PASAMOS A SIN DEFINIR"
      ],
      "metadata": {
        "id": "zcgxXoLtxEPo"
      }
    },
    {
      "cell_type": "markdown",
      "source": [
        "VERIFICAMOS QUE TIENE NaN DENTRO DE SUS REGISTROS"
      ],
      "metadata": {
        "id": "RuQhvAJ0yGQG"
      }
    },
    {
      "cell_type": "code",
      "source": [
        "df['categoria'].unique()"
      ],
      "metadata": {
        "colab": {
          "base_uri": "https://localhost:8080/"
        },
        "id": "ZYi7C6byxnf_",
        "outputId": "5c5fb522-e9b8-4ca0-bb0e-8e5de8fc4a65"
      },
      "execution_count": 8,
      "outputs": [
        {
          "output_type": "execute_result",
          "data": {
            "text/plain": [
              "array(['Muebles', 'Tecnología', 'Oficina', 'Electrónica', nan],\n",
              "      dtype=object)"
            ]
          },
          "metadata": {},
          "execution_count": 8
        }
      ]
    },
    {
      "cell_type": "code",
      "source": [
        "df['categoria'] = df['categoria'].fillna('Sin definir')"
      ],
      "metadata": {
        "id": "tdCpRt0zvDA7"
      },
      "execution_count": 9,
      "outputs": []
    },
    {
      "cell_type": "markdown",
      "source": [
        "CONFIRMAMOS QUE YA NO TIENE NaN"
      ],
      "metadata": {
        "id": "TznfuQkQx2Pv"
      }
    },
    {
      "cell_type": "code",
      "source": [
        "df['categoria'].unique()"
      ],
      "metadata": {
        "colab": {
          "base_uri": "https://localhost:8080/"
        },
        "id": "Q9sUbzk4vC97",
        "outputId": "89640c8a-5bf0-4e3b-bbb7-5ef2b8dd809f"
      },
      "execution_count": 10,
      "outputs": [
        {
          "output_type": "execute_result",
          "data": {
            "text/plain": [
              "array(['Muebles', 'Tecnología', 'Oficina', 'Electrónica', 'Sin definir'],\n",
              "      dtype=object)"
            ]
          },
          "metadata": {},
          "execution_count": 10
        }
      ]
    },
    {
      "cell_type": "markdown",
      "source": [
        "EN PRECIO UNITARIO ELIMINAMOS LOS QUE TIENEN NULOS"
      ],
      "metadata": {
        "id": "iufWSQY9yXFG"
      }
    },
    {
      "cell_type": "markdown",
      "source": [
        "VERIFICAMOS QUE TIENE VALORES NULOS"
      ],
      "metadata": {
        "id": "r8ncO0H_3uNN"
      }
    },
    {
      "cell_type": "code",
      "source": [
        "df['precio_unitario'].isnull().sum()"
      ],
      "metadata": {
        "colab": {
          "base_uri": "https://localhost:8080/"
        },
        "id": "48QbfOVRysHV",
        "outputId": "aa2bb1c2-c381-4023-9706-0f7272621ad1"
      },
      "execution_count": 11,
      "outputs": [
        {
          "output_type": "execute_result",
          "data": {
            "text/plain": [
              "np.int64(58)"
            ]
          },
          "metadata": {},
          "execution_count": 11
        }
      ]
    },
    {
      "cell_type": "code",
      "source": [
        "df= df.dropna(subset=['precio_unitario'])"
      ],
      "metadata": {
        "id": "Ca_by4b7vC7D"
      },
      "execution_count": 12,
      "outputs": []
    },
    {
      "cell_type": "markdown",
      "source": [
        "CONFIRMAMOS QUE LOS VALORES NULOS FUERON ELIMINADOS"
      ],
      "metadata": {
        "id": "bW5mz7Kp3xSW"
      }
    },
    {
      "cell_type": "code",
      "source": [
        "df['precio_unitario'].isnull().sum()"
      ],
      "metadata": {
        "colab": {
          "base_uri": "https://localhost:8080/"
        },
        "id": "PoH8hw1GvC4L",
        "outputId": "8f607c70-d75f-4303-f1d3-868c867c9ff7"
      },
      "execution_count": 13,
      "outputs": [
        {
          "output_type": "execute_result",
          "data": {
            "text/plain": [
              "np.int64(0)"
            ]
          },
          "metadata": {},
          "execution_count": 13
        }
      ]
    },
    {
      "cell_type": "markdown",
      "source": [
        "VERIFICAMOS QUE LA COLUMNA CLIENTE TIENE VALORES NULOS"
      ],
      "metadata": {
        "id": "z8n4a-Pr3381"
      }
    },
    {
      "cell_type": "code",
      "source": [
        "df['cliente'].isnull().sum()"
      ],
      "metadata": {
        "colab": {
          "base_uri": "https://localhost:8080/"
        },
        "id": "yUjKPCLA4Lx1",
        "outputId": "e8d09248-bc54-412e-f060-0df9a272af2d"
      },
      "execution_count": 14,
      "outputs": [
        {
          "output_type": "execute_result",
          "data": {
            "text/plain": [
              "np.int64(83)"
            ]
          },
          "metadata": {},
          "execution_count": 14
        }
      ]
    },
    {
      "cell_type": "code",
      "source": [
        "df.columns"
      ],
      "metadata": {
        "colab": {
          "base_uri": "https://localhost:8080/"
        },
        "id": "i410fzS3vC1U",
        "outputId": "4c55b4ee-41cc-474c-9478-8a502fe76f93"
      },
      "execution_count": 15,
      "outputs": [
        {
          "output_type": "execute_result",
          "data": {
            "text/plain": [
              "Index(['id_venta', 'fecha', 'cliente', 'producto', 'categoria', 'cantidad',\n",
              "       'precio_unitario', 'descuento', 'metodo_pago', 'ciudad', 'total_venta'],\n",
              "      dtype='object')"
            ]
          },
          "metadata": {},
          "execution_count": 15
        }
      ]
    },
    {
      "cell_type": "code",
      "source": [
        "df['cliente'] = df['cliente'].fillna('Desconocido')"
      ],
      "metadata": {
        "id": "GY_a7zkPvCyz"
      },
      "execution_count": 16,
      "outputs": []
    },
    {
      "cell_type": "markdown",
      "source": [
        "CONFIRMAMOS QUE NO QUEDARON NULOS EN CLIENTE"
      ],
      "metadata": {
        "id": "98KTTJu34hJV"
      }
    },
    {
      "cell_type": "code",
      "source": [
        "df['cliente'].isnull().sum()"
      ],
      "metadata": {
        "colab": {
          "base_uri": "https://localhost:8080/"
        },
        "id": "lwH8B7Z9vCvj",
        "outputId": "e4f71ced-7b14-4c7c-9a2d-754b5be63ac5"
      },
      "execution_count": 17,
      "outputs": [
        {
          "output_type": "execute_result",
          "data": {
            "text/plain": [
              "np.int64(0)"
            ]
          },
          "metadata": {},
          "execution_count": 17
        }
      ]
    },
    {
      "cell_type": "markdown",
      "source": [
        "#### ERRORES DE TIPEO EN METODO DE PAGO y NaN"
      ],
      "metadata": {
        "id": "7Da2HQ1O4nxs"
      }
    },
    {
      "cell_type": "code",
      "source": [
        "df['metodo_pago'].unique()"
      ],
      "metadata": {
        "colab": {
          "base_uri": "https://localhost:8080/"
        },
        "id": "CjOVYib14plU",
        "outputId": "e1adc9a1-4fae-4688-98ab-f477c9142c69"
      },
      "execution_count": 18,
      "outputs": [
        {
          "output_type": "execute_result",
          "data": {
            "text/plain": [
              "array(['tarjerta', 'Efectivo', 'Transferencia', 'Tarjeta', nan],\n",
              "      dtype=object)"
            ]
          },
          "metadata": {},
          "execution_count": 18
        }
      ]
    },
    {
      "cell_type": "code",
      "source": [
        "df['metodo_pago']= df['metodo_pago'].replace({'tarjerta':'Tarjeta'})"
      ],
      "metadata": {
        "id": "208Iwu-TvCsk"
      },
      "execution_count": 19,
      "outputs": []
    },
    {
      "cell_type": "code",
      "source": [
        "df['metodo_pago']= df['metodo_pago'].fillna('Desconocido')"
      ],
      "metadata": {
        "id": "3Ymn1J6D5oQF"
      },
      "execution_count": 20,
      "outputs": []
    },
    {
      "cell_type": "code",
      "source": [
        "df['metodo_pago'].unique()"
      ],
      "metadata": {
        "colab": {
          "base_uri": "https://localhost:8080/"
        },
        "id": "tvqtZWJP5hWj",
        "outputId": "2c355646-a251-4b0a-f5bd-484aaa9b6dad"
      },
      "execution_count": 21,
      "outputs": [
        {
          "output_type": "execute_result",
          "data": {
            "text/plain": [
              "array(['Tarjeta', 'Efectivo', 'Transferencia', 'Desconocido'],\n",
              "      dtype=object)"
            ]
          },
          "metadata": {},
          "execution_count": 21
        }
      ]
    },
    {
      "cell_type": "markdown",
      "source": [
        "CONFIRMAMOS QUE ESTA CORREGIDO"
      ],
      "metadata": {
        "id": "w0X-pQ9358Kq"
      }
    },
    {
      "cell_type": "markdown",
      "source": [
        "### TRANSFORMACIONES"
      ],
      "metadata": {
        "id": "T-iodcEiTDs_"
      }
    },
    {
      "cell_type": "code",
      "source": [
        "df.info()"
      ],
      "metadata": {
        "colab": {
          "base_uri": "https://localhost:8080/"
        },
        "id": "VK7qutxxTaHW",
        "outputId": "2598e493-cff7-467a-eb47-f0d9e56fdc1b"
      },
      "execution_count": 22,
      "outputs": [
        {
          "output_type": "stream",
          "name": "stdout",
          "text": [
            "<class 'pandas.core.frame.DataFrame'>\n",
            "Index: 1942 entries, 0 to 1999\n",
            "Data columns (total 11 columns):\n",
            " #   Column           Non-Null Count  Dtype  \n",
            "---  ------           --------------  -----  \n",
            " 0   id_venta         1942 non-null   int64  \n",
            " 1   fecha            1895 non-null   object \n",
            " 2   cliente          1942 non-null   object \n",
            " 3   producto         1942 non-null   object \n",
            " 4   categoria        1942 non-null   object \n",
            " 5   cantidad         1942 non-null   int64  \n",
            " 6   precio_unitario  1942 non-null   float64\n",
            " 7   descuento        1847 non-null   float64\n",
            " 8   metodo_pago      1942 non-null   object \n",
            " 9   ciudad           1657 non-null   object \n",
            " 10  total_venta      1942 non-null   float64\n",
            "dtypes: float64(3), int64(2), object(6)\n",
            "memory usage: 182.1+ KB\n"
          ]
        }
      ]
    },
    {
      "cell_type": "markdown",
      "source": [
        "####CONVERTIR FECHA A DATATIME"
      ],
      "metadata": {
        "id": "VmOCpF8rTWGn"
      }
    },
    {
      "cell_type": "code",
      "source": [
        "df['fecha'] = pd.to_datetime(df['fecha'], errors= 'coerce')"
      ],
      "metadata": {
        "id": "9NuFn-U56FK6"
      },
      "execution_count": 24,
      "outputs": []
    },
    {
      "cell_type": "markdown",
      "source": [
        "#### CREAR LA COLUMNA MES"
      ],
      "metadata": {
        "id": "XyrHGCqDUU_2"
      }
    },
    {
      "cell_type": "code",
      "source": [
        "df[\"año-mes\"] = df['fecha'].dt.to_period('M')"
      ],
      "metadata": {
        "id": "0L0a2fCjT9ZX"
      },
      "execution_count": 26,
      "outputs": []
    },
    {
      "cell_type": "code",
      "source": [
        "df.columns"
      ],
      "metadata": {
        "colab": {
          "base_uri": "https://localhost:8080/"
        },
        "id": "f_AuCZ4zT9Wv",
        "outputId": "807fde22-27f8-4b0b-cbd1-f8847a56ddf4"
      },
      "execution_count": 27,
      "outputs": [
        {
          "output_type": "execute_result",
          "data": {
            "text/plain": [
              "Index(['id_venta', 'fecha', 'cliente', 'producto', 'categoria', 'cantidad',\n",
              "       'precio_unitario', 'descuento', 'metodo_pago', 'ciudad', 'total_venta',\n",
              "       'año-mes'],\n",
              "      dtype='object')"
            ]
          },
          "metadata": {},
          "execution_count": 27
        }
      ]
    },
    {
      "cell_type": "code",
      "source": [
        "df['dia'] = df['fecha'].dt.day_name()"
      ],
      "metadata": {
        "id": "WZ-0Dr2DT9UX"
      },
      "execution_count": 45,
      "outputs": []
    },
    {
      "cell_type": "code",
      "source": [
        "df['margen'] = (df['total_venta'] * 0.2).round(2)"
      ],
      "metadata": {
        "id": "E9dPBfpdT9PY"
      },
      "execution_count": 49,
      "outputs": []
    },
    {
      "cell_type": "code",
      "source": [
        "df.head(3)"
      ],
      "metadata": {
        "colab": {
          "base_uri": "https://localhost:8080/",
          "height": 230
        },
        "id": "U-DkUIFFT9Mq",
        "outputId": "9a17fef3-a904-47c1-cff5-df4c0fe962f4"
      },
      "execution_count": 51,
      "outputs": [
        {
          "output_type": "execute_result",
          "data": {
            "text/plain": [
              "   id_venta      fecha                      cliente     producto   categoria  \\\n",
              "0         1 2025-07-27                 Enrique Cabo  Silla Gamer     Muebles   \n",
              "1         2 2023-01-22  Eufemia Montalbán Caballero       Tablet  Tecnología   \n",
              "2         3 2025-05-02            Vilma Salom Jover    Impresora     Oficina   \n",
              "\n",
              "   cantidad  precio_unitario  descuento    metodo_pago        ciudad  \\\n",
              "0         2          1779.67       0.01        Tarjeta       Córdoba   \n",
              "1        10           849.01       0.36       Efectivo  Buenos Aires   \n",
              "2         2          1089.76       0.10  Transferencia           NaN   \n",
              "\n",
              "   total_venta  año-mes     dia   margen  \n",
              "0      3523.75  2025-07  Sunday   704.75  \n",
              "1      5433.66  2023-01  Sunday  1086.73  \n",
              "2      1961.57  2025-05  Friday   392.31  "
            ],
            "text/html": [
              "\n",
              "  <div id=\"df-c636e79f-0241-44b3-b9c7-8abe2374be56\" class=\"colab-df-container\">\n",
              "    <div>\n",
              "<style scoped>\n",
              "    .dataframe tbody tr th:only-of-type {\n",
              "        vertical-align: middle;\n",
              "    }\n",
              "\n",
              "    .dataframe tbody tr th {\n",
              "        vertical-align: top;\n",
              "    }\n",
              "\n",
              "    .dataframe thead th {\n",
              "        text-align: right;\n",
              "    }\n",
              "</style>\n",
              "<table border=\"1\" class=\"dataframe\">\n",
              "  <thead>\n",
              "    <tr style=\"text-align: right;\">\n",
              "      <th></th>\n",
              "      <th>id_venta</th>\n",
              "      <th>fecha</th>\n",
              "      <th>cliente</th>\n",
              "      <th>producto</th>\n",
              "      <th>categoria</th>\n",
              "      <th>cantidad</th>\n",
              "      <th>precio_unitario</th>\n",
              "      <th>descuento</th>\n",
              "      <th>metodo_pago</th>\n",
              "      <th>ciudad</th>\n",
              "      <th>total_venta</th>\n",
              "      <th>año-mes</th>\n",
              "      <th>dia</th>\n",
              "      <th>margen</th>\n",
              "    </tr>\n",
              "  </thead>\n",
              "  <tbody>\n",
              "    <tr>\n",
              "      <th>0</th>\n",
              "      <td>1</td>\n",
              "      <td>2025-07-27</td>\n",
              "      <td>Enrique Cabo</td>\n",
              "      <td>Silla Gamer</td>\n",
              "      <td>Muebles</td>\n",
              "      <td>2</td>\n",
              "      <td>1779.67</td>\n",
              "      <td>0.01</td>\n",
              "      <td>Tarjeta</td>\n",
              "      <td>Córdoba</td>\n",
              "      <td>3523.75</td>\n",
              "      <td>2025-07</td>\n",
              "      <td>Sunday</td>\n",
              "      <td>704.75</td>\n",
              "    </tr>\n",
              "    <tr>\n",
              "      <th>1</th>\n",
              "      <td>2</td>\n",
              "      <td>2023-01-22</td>\n",
              "      <td>Eufemia Montalbán Caballero</td>\n",
              "      <td>Tablet</td>\n",
              "      <td>Tecnología</td>\n",
              "      <td>10</td>\n",
              "      <td>849.01</td>\n",
              "      <td>0.36</td>\n",
              "      <td>Efectivo</td>\n",
              "      <td>Buenos Aires</td>\n",
              "      <td>5433.66</td>\n",
              "      <td>2023-01</td>\n",
              "      <td>Sunday</td>\n",
              "      <td>1086.73</td>\n",
              "    </tr>\n",
              "    <tr>\n",
              "      <th>2</th>\n",
              "      <td>3</td>\n",
              "      <td>2025-05-02</td>\n",
              "      <td>Vilma Salom Jover</td>\n",
              "      <td>Impresora</td>\n",
              "      <td>Oficina</td>\n",
              "      <td>2</td>\n",
              "      <td>1089.76</td>\n",
              "      <td>0.10</td>\n",
              "      <td>Transferencia</td>\n",
              "      <td>NaN</td>\n",
              "      <td>1961.57</td>\n",
              "      <td>2025-05</td>\n",
              "      <td>Friday</td>\n",
              "      <td>392.31</td>\n",
              "    </tr>\n",
              "  </tbody>\n",
              "</table>\n",
              "</div>\n",
              "    <div class=\"colab-df-buttons\">\n",
              "\n",
              "  <div class=\"colab-df-container\">\n",
              "    <button class=\"colab-df-convert\" onclick=\"convertToInteractive('df-c636e79f-0241-44b3-b9c7-8abe2374be56')\"\n",
              "            title=\"Convert this dataframe to an interactive table.\"\n",
              "            style=\"display:none;\">\n",
              "\n",
              "  <svg xmlns=\"http://www.w3.org/2000/svg\" height=\"24px\" viewBox=\"0 -960 960 960\">\n",
              "    <path d=\"M120-120v-720h720v720H120Zm60-500h600v-160H180v160Zm220 220h160v-160H400v160Zm0 220h160v-160H400v160ZM180-400h160v-160H180v160Zm440 0h160v-160H620v160ZM180-180h160v-160H180v160Zm440 0h160v-160H620v160Z\"/>\n",
              "  </svg>\n",
              "    </button>\n",
              "\n",
              "  <style>\n",
              "    .colab-df-container {\n",
              "      display:flex;\n",
              "      gap: 12px;\n",
              "    }\n",
              "\n",
              "    .colab-df-convert {\n",
              "      background-color: #E8F0FE;\n",
              "      border: none;\n",
              "      border-radius: 50%;\n",
              "      cursor: pointer;\n",
              "      display: none;\n",
              "      fill: #1967D2;\n",
              "      height: 32px;\n",
              "      padding: 0 0 0 0;\n",
              "      width: 32px;\n",
              "    }\n",
              "\n",
              "    .colab-df-convert:hover {\n",
              "      background-color: #E2EBFA;\n",
              "      box-shadow: 0px 1px 2px rgba(60, 64, 67, 0.3), 0px 1px 3px 1px rgba(60, 64, 67, 0.15);\n",
              "      fill: #174EA6;\n",
              "    }\n",
              "\n",
              "    .colab-df-buttons div {\n",
              "      margin-bottom: 4px;\n",
              "    }\n",
              "\n",
              "    [theme=dark] .colab-df-convert {\n",
              "      background-color: #3B4455;\n",
              "      fill: #D2E3FC;\n",
              "    }\n",
              "\n",
              "    [theme=dark] .colab-df-convert:hover {\n",
              "      background-color: #434B5C;\n",
              "      box-shadow: 0px 1px 3px 1px rgba(0, 0, 0, 0.15);\n",
              "      filter: drop-shadow(0px 1px 2px rgba(0, 0, 0, 0.3));\n",
              "      fill: #FFFFFF;\n",
              "    }\n",
              "  </style>\n",
              "\n",
              "    <script>\n",
              "      const buttonEl =\n",
              "        document.querySelector('#df-c636e79f-0241-44b3-b9c7-8abe2374be56 button.colab-df-convert');\n",
              "      buttonEl.style.display =\n",
              "        google.colab.kernel.accessAllowed ? 'block' : 'none';\n",
              "\n",
              "      async function convertToInteractive(key) {\n",
              "        const element = document.querySelector('#df-c636e79f-0241-44b3-b9c7-8abe2374be56');\n",
              "        const dataTable =\n",
              "          await google.colab.kernel.invokeFunction('convertToInteractive',\n",
              "                                                    [key], {});\n",
              "        if (!dataTable) return;\n",
              "\n",
              "        const docLinkHtml = 'Like what you see? Visit the ' +\n",
              "          '<a target=\"_blank\" href=https://colab.research.google.com/notebooks/data_table.ipynb>data table notebook</a>'\n",
              "          + ' to learn more about interactive tables.';\n",
              "        element.innerHTML = '';\n",
              "        dataTable['output_type'] = 'display_data';\n",
              "        await google.colab.output.renderOutput(dataTable, element);\n",
              "        const docLink = document.createElement('div');\n",
              "        docLink.innerHTML = docLinkHtml;\n",
              "        element.appendChild(docLink);\n",
              "      }\n",
              "    </script>\n",
              "  </div>\n",
              "\n",
              "\n",
              "    <div id=\"df-7b699a18-a038-4b24-8ce0-126ae63231cc\">\n",
              "      <button class=\"colab-df-quickchart\" onclick=\"quickchart('df-7b699a18-a038-4b24-8ce0-126ae63231cc')\"\n",
              "                title=\"Suggest charts\"\n",
              "                style=\"display:none;\">\n",
              "\n",
              "<svg xmlns=\"http://www.w3.org/2000/svg\" height=\"24px\"viewBox=\"0 0 24 24\"\n",
              "     width=\"24px\">\n",
              "    <g>\n",
              "        <path d=\"M19 3H5c-1.1 0-2 .9-2 2v14c0 1.1.9 2 2 2h14c1.1 0 2-.9 2-2V5c0-1.1-.9-2-2-2zM9 17H7v-7h2v7zm4 0h-2V7h2v10zm4 0h-2v-4h2v4z\"/>\n",
              "    </g>\n",
              "</svg>\n",
              "      </button>\n",
              "\n",
              "<style>\n",
              "  .colab-df-quickchart {\n",
              "      --bg-color: #E8F0FE;\n",
              "      --fill-color: #1967D2;\n",
              "      --hover-bg-color: #E2EBFA;\n",
              "      --hover-fill-color: #174EA6;\n",
              "      --disabled-fill-color: #AAA;\n",
              "      --disabled-bg-color: #DDD;\n",
              "  }\n",
              "\n",
              "  [theme=dark] .colab-df-quickchart {\n",
              "      --bg-color: #3B4455;\n",
              "      --fill-color: #D2E3FC;\n",
              "      --hover-bg-color: #434B5C;\n",
              "      --hover-fill-color: #FFFFFF;\n",
              "      --disabled-bg-color: #3B4455;\n",
              "      --disabled-fill-color: #666;\n",
              "  }\n",
              "\n",
              "  .colab-df-quickchart {\n",
              "    background-color: var(--bg-color);\n",
              "    border: none;\n",
              "    border-radius: 50%;\n",
              "    cursor: pointer;\n",
              "    display: none;\n",
              "    fill: var(--fill-color);\n",
              "    height: 32px;\n",
              "    padding: 0;\n",
              "    width: 32px;\n",
              "  }\n",
              "\n",
              "  .colab-df-quickchart:hover {\n",
              "    background-color: var(--hover-bg-color);\n",
              "    box-shadow: 0 1px 2px rgba(60, 64, 67, 0.3), 0 1px 3px 1px rgba(60, 64, 67, 0.15);\n",
              "    fill: var(--button-hover-fill-color);\n",
              "  }\n",
              "\n",
              "  .colab-df-quickchart-complete:disabled,\n",
              "  .colab-df-quickchart-complete:disabled:hover {\n",
              "    background-color: var(--disabled-bg-color);\n",
              "    fill: var(--disabled-fill-color);\n",
              "    box-shadow: none;\n",
              "  }\n",
              "\n",
              "  .colab-df-spinner {\n",
              "    border: 2px solid var(--fill-color);\n",
              "    border-color: transparent;\n",
              "    border-bottom-color: var(--fill-color);\n",
              "    animation:\n",
              "      spin 1s steps(1) infinite;\n",
              "  }\n",
              "\n",
              "  @keyframes spin {\n",
              "    0% {\n",
              "      border-color: transparent;\n",
              "      border-bottom-color: var(--fill-color);\n",
              "      border-left-color: var(--fill-color);\n",
              "    }\n",
              "    20% {\n",
              "      border-color: transparent;\n",
              "      border-left-color: var(--fill-color);\n",
              "      border-top-color: var(--fill-color);\n",
              "    }\n",
              "    30% {\n",
              "      border-color: transparent;\n",
              "      border-left-color: var(--fill-color);\n",
              "      border-top-color: var(--fill-color);\n",
              "      border-right-color: var(--fill-color);\n",
              "    }\n",
              "    40% {\n",
              "      border-color: transparent;\n",
              "      border-right-color: var(--fill-color);\n",
              "      border-top-color: var(--fill-color);\n",
              "    }\n",
              "    60% {\n",
              "      border-color: transparent;\n",
              "      border-right-color: var(--fill-color);\n",
              "    }\n",
              "    80% {\n",
              "      border-color: transparent;\n",
              "      border-right-color: var(--fill-color);\n",
              "      border-bottom-color: var(--fill-color);\n",
              "    }\n",
              "    90% {\n",
              "      border-color: transparent;\n",
              "      border-bottom-color: var(--fill-color);\n",
              "    }\n",
              "  }\n",
              "</style>\n",
              "\n",
              "      <script>\n",
              "        async function quickchart(key) {\n",
              "          const quickchartButtonEl =\n",
              "            document.querySelector('#' + key + ' button');\n",
              "          quickchartButtonEl.disabled = true;  // To prevent multiple clicks.\n",
              "          quickchartButtonEl.classList.add('colab-df-spinner');\n",
              "          try {\n",
              "            const charts = await google.colab.kernel.invokeFunction(\n",
              "                'suggestCharts', [key], {});\n",
              "          } catch (error) {\n",
              "            console.error('Error during call to suggestCharts:', error);\n",
              "          }\n",
              "          quickchartButtonEl.classList.remove('colab-df-spinner');\n",
              "          quickchartButtonEl.classList.add('colab-df-quickchart-complete');\n",
              "        }\n",
              "        (() => {\n",
              "          let quickchartButtonEl =\n",
              "            document.querySelector('#df-7b699a18-a038-4b24-8ce0-126ae63231cc button');\n",
              "          quickchartButtonEl.style.display =\n",
              "            google.colab.kernel.accessAllowed ? 'block' : 'none';\n",
              "        })();\n",
              "      </script>\n",
              "    </div>\n",
              "\n",
              "    </div>\n",
              "  </div>\n"
            ],
            "application/vnd.google.colaboratory.intrinsic+json": {
              "type": "dataframe",
              "variable_name": "df",
              "summary": "{\n  \"name\": \"df\",\n  \"rows\": 1942,\n  \"fields\": [\n    {\n      \"column\": \"id_venta\",\n      \"properties\": {\n        \"dtype\": \"number\",\n        \"std\": 578,\n        \"min\": 1,\n        \"max\": 2000,\n        \"num_unique_values\": 1886,\n        \"samples\": [\n          324,\n          403,\n          489\n        ],\n        \"semantic_type\": \"\",\n        \"description\": \"\"\n      }\n    },\n    {\n      \"column\": \"fecha\",\n      \"properties\": {\n        \"dtype\": \"date\",\n        \"min\": \"2023-01-01 00:00:00\",\n        \"max\": \"2025-09-29 00:00:00\",\n        \"num_unique_values\": 849,\n        \"samples\": [\n          \"2024-06-30 00:00:00\",\n          \"2024-02-14 00:00:00\",\n          \"2023-11-02 00:00:00\"\n        ],\n        \"semantic_type\": \"\",\n        \"description\": \"\"\n      }\n    },\n    {\n      \"column\": \"cliente\",\n      \"properties\": {\n        \"dtype\": \"string\",\n        \"num_unique_values\": 1860,\n        \"samples\": [\n          \"Jose Manuel Amores-Pinilla\",\n          \"Macarena del Roldan\",\n          \"Gregorio Lamas\"\n        ],\n        \"semantic_type\": \"\",\n        \"description\": \"\"\n      }\n    },\n    {\n      \"column\": \"producto\",\n      \"properties\": {\n        \"dtype\": \"category\",\n        \"num_unique_values\": 10,\n        \"samples\": [\n          \"Teclado\",\n          \"Tablet\",\n          \"Celular\"\n        ],\n        \"semantic_type\": \"\",\n        \"description\": \"\"\n      }\n    },\n    {\n      \"column\": \"categoria\",\n      \"properties\": {\n        \"dtype\": \"category\",\n        \"num_unique_values\": 5,\n        \"samples\": [\n          \"Tecnolog\\u00eda\",\n          \"Sin definir\",\n          \"Oficina\"\n        ],\n        \"semantic_type\": \"\",\n        \"description\": \"\"\n      }\n    },\n    {\n      \"column\": \"cantidad\",\n      \"properties\": {\n        \"dtype\": \"number\",\n        \"std\": 2,\n        \"min\": 1,\n        \"max\": 10,\n        \"num_unique_values\": 10,\n        \"samples\": [\n          1,\n          10,\n          9\n        ],\n        \"semantic_type\": \"\",\n        \"description\": \"\"\n      }\n    },\n    {\n      \"column\": \"precio_unitario\",\n      \"properties\": {\n        \"dtype\": \"number\",\n        \"std\": 870.1055820019221,\n        \"min\": 21.05,\n        \"max\": 2997.44,\n        \"num_unique_values\": 1936,\n        \"samples\": [\n          2499.52,\n          870.07,\n          810.55\n        ],\n        \"semantic_type\": \"\",\n        \"description\": \"\"\n      }\n    },\n    {\n      \"column\": \"descuento\",\n      \"properties\": {\n        \"dtype\": \"number\",\n        \"std\": 0.10110452605065394,\n        \"min\": 0.0,\n        \"max\": 0.4,\n        \"num_unique_values\": 41,\n        \"samples\": [\n          0.39,\n          0.12,\n          0.33\n        ],\n        \"semantic_type\": \"\",\n        \"description\": \"\"\n      }\n    },\n    {\n      \"column\": \"metodo_pago\",\n      \"properties\": {\n        \"dtype\": \"category\",\n        \"num_unique_values\": 4,\n        \"samples\": [\n          \"Efectivo\",\n          \"Desconocido\",\n          \"Tarjeta\"\n        ],\n        \"semantic_type\": \"\",\n        \"description\": \"\"\n      }\n    },\n    {\n      \"column\": \"ciudad\",\n      \"properties\": {\n        \"dtype\": \"category\",\n        \"num_unique_values\": 6,\n        \"samples\": [\n          \"C\\u00f3rdoba\",\n          \"Buenos Aires\",\n          \"Rosario\"\n        ],\n        \"semantic_type\": \"\",\n        \"description\": \"\"\n      }\n    },\n    {\n      \"column\": \"total_venta\",\n      \"properties\": {\n        \"dtype\": \"number\",\n        \"std\": 5156.6269246630245,\n        \"min\": 30.58,\n        \"max\": 25641.97,\n        \"num_unique_values\": 1941,\n        \"samples\": [\n          124.47,\n          18174.55,\n          3444.31\n        ],\n        \"semantic_type\": \"\",\n        \"description\": \"\"\n      }\n    },\n    {\n      \"column\": \"a\\u00f1o-mes\",\n      \"properties\": {\n        \"dtype\": \"period[M]\",\n        \"num_unique_values\": 33,\n        \"samples\": [\n          \"2025-03\",\n          \"2024-10\",\n          \"2024-03\"\n        ],\n        \"semantic_type\": \"\",\n        \"description\": \"\"\n      }\n    },\n    {\n      \"column\": \"dia\",\n      \"properties\": {\n        \"dtype\": \"category\",\n        \"num_unique_values\": 7,\n        \"samples\": [\n          \"Sunday\",\n          \"Friday\",\n          \"Monday\"\n        ],\n        \"semantic_type\": \"\",\n        \"description\": \"\"\n      }\n    },\n    {\n      \"column\": \"margen\",\n      \"properties\": {\n        \"dtype\": \"number\",\n        \"std\": 1031.325414079676,\n        \"min\": 6.12,\n        \"max\": 5128.39,\n        \"num_unique_values\": 1937,\n        \"samples\": [\n          815.23,\n          463.98,\n          467.83\n        ],\n        \"semantic_type\": \"\",\n        \"description\": \"\"\n      }\n    }\n  ]\n}"
            }
          },
          "metadata": {},
          "execution_count": 51
        }
      ]
    },
    {
      "cell_type": "markdown",
      "source": [
        "## 3 - LOAD (L)"
      ],
      "metadata": {
        "id": "rkoii0QJW_oB"
      }
    },
    {
      "cell_type": "code",
      "source": [
        "df.to_csv( \"/content/drive/MyDrive/EDA practica/arch_limpio.csv\" , index=False)"
      ],
      "metadata": {
        "id": "LNo5mAk8T9J3"
      },
      "execution_count": 55,
      "outputs": []
    },
    {
      "cell_type": "markdown",
      "source": [
        "#EDA"
      ],
      "metadata": {
        "id": "cQZsDNireMLW"
      }
    },
    {
      "cell_type": "markdown",
      "source": [
        "##VENTAS POR CATEGORIA"
      ],
      "metadata": {
        "id": "tjshjgzaebj9"
      }
    },
    {
      "cell_type": "code",
      "source": [
        "df.columns"
      ],
      "metadata": {
        "colab": {
          "base_uri": "https://localhost:8080/"
        },
        "id": "8uIx-r9peyml",
        "outputId": "5837e238-595a-42e4-e143-7664398284a1"
      },
      "execution_count": 56,
      "outputs": [
        {
          "output_type": "execute_result",
          "data": {
            "text/plain": [
              "Index(['id_venta', 'fecha', 'cliente', 'producto', 'categoria', 'cantidad',\n",
              "       'precio_unitario', 'descuento', 'metodo_pago', 'ciudad', 'total_venta',\n",
              "       'año-mes', 'dia', 'margen'],\n",
              "      dtype='object')"
            ]
          },
          "metadata": {},
          "execution_count": 56
        }
      ]
    },
    {
      "cell_type": "code",
      "source": [
        "from re import X\n",
        "plt.figure(figsize=(10,8))\n",
        "sns.barplot(x=\"categoria\", y=\"total_venta\", data= df, estimator= sum)"
      ],
      "metadata": {
        "colab": {
          "base_uri": "https://localhost:8080/",
          "height": 728
        },
        "id": "xfFhNeRReNxe",
        "outputId": "d82219d0-b86e-46ad-f496-f83c2b3be0a0"
      },
      "execution_count": 61,
      "outputs": [
        {
          "output_type": "execute_result",
          "data": {
            "text/plain": [
              "<Axes: xlabel='categoria', ylabel='total_venta'>"
            ]
          },
          "metadata": {},
          "execution_count": 61
        },
        {
          "output_type": "display_data",
          "data": {
            "text/plain": [
              "<Figure size 1000x800 with 1 Axes>"
            ],
            "image/png": "[encoded data removed]"
          },
          "metadata": {}
        }
      ]
    },
    {
      "cell_type": "markdown",
      "source": [
        "## CIUDADES CON MAS VENTAS"
      ],
      "metadata": {
        "id": "MNbjxdyhgt6p"
      }
    },
    {
      "cell_type": "code",
      "source": [
        "plt.figure(figsize=(9,7))\n",
        "top_ciudades = df.groupby('ciudad')['total_venta'].sum().sort_values(ascending= False).head(5)\n",
        "sns.barplot(x=top_ciudades.values, y= top_ciudades.index)\n",
        "plt.title(\"Top 5 Ciudades con mas ventas\")"
      ],
      "metadata": {
        "colab": {
          "base_uri": "https://localhost:8080/",
          "height": 657
        },
        "id": "RG9FuwcsgzTi",
        "outputId": "b8301a2a-a256-4cd8-ba5e-9c81e6058a78"
      },
      "execution_count": 66,
      "outputs": [
        {
          "output_type": "execute_result",
          "data": {
            "text/plain": [
              "Text(0.5, 1.0, 'Top 5 Ciudades con mas ventas')"
            ]
          },
          "metadata": {},
          "execution_count": 66
        },
        {
          "output_type": "display_data",
          "data": {
            "text/plain": [
              "<Figure size 900x700 with 1 Axes>"
            ],
            "image/png": "[encoded data removed]"
          },
          "metadata": {}
        }
      ]
    },
    {
      "cell_type": "markdown",
      "source": [
        "## VENTAS POR MES"
      ],
      "metadata": {
        "id": "hXRpwKQkuSWk"
      }
    },
    {
      "cell_type": "code",
      "source": [
        "ventas_mes = df.groupby('año-mes')['total_venta'].sum()"
      ],
      "metadata": {
        "id": "pLsR0C7MgzQh"
      },
      "execution_count": 70,
      "outputs": []
    },
    {
      "cell_type": "code",
      "source": [
        "plt.figure(figsize=(13,8))\n",
        "ventas_mes.plot(marker='o')"
      ],
      "metadata": {
        "colab": {
          "base_uri": "https://localhost:8080/",
          "height": 729
        },
        "id": "2RXwHqoBgzNK",
        "outputId": "4c8e6ce4-6309-40f6-b0f9-03ceb4a44bca"
      },
      "execution_count": 74,
      "outputs": [
        {
          "output_type": "execute_result",
          "data": {
            "text/plain": [
              "<Axes: xlabel='año-mes'>"
            ]
          },
          "metadata": {},
          "execution_count": 74
        },
        {
          "output_type": "display_data",
          "data": {
            "text/plain": [
              "<Figure size 1300x800 with 1 Axes>"
            ],
            "image/png": "[encoded data removed]"
          },
          "metadata": {}
        }
      ]
    },
    {
      "cell_type": "markdown",
      "source": [
        "## METRICAS"
      ],
      "metadata": {
        "id": "VaRIIAuwx1Rf"
      }
    },
    {
      "cell_type": "markdown",
      "source": [
        "### TOTAL DE VENTAS"
      ],
      "metadata": {
        "id": "TpOiEN0GyPbK"
      }
    },
    {
      "cell_type": "code",
      "source": [
        "total_de_ventas = df['total_venta'].sum()"
      ],
      "metadata": {
        "id": "NKzVk7EhgzEq"
      },
      "execution_count": 76,
      "outputs": []
    },
    {
      "cell_type": "markdown",
      "source": [
        "### TICKET PROMEDIO"
      ],
      "metadata": {
        "id": "8Vw3DkNRyStu"
      }
    },
    {
      "cell_type": "code",
      "source": [
        "ticket_promedio = df['total_venta'].mean()"
      ],
      "metadata": {
        "id": "j7pOIvAogybx"
      },
      "execution_count": 77,
      "outputs": []
    },
    {
      "cell_type": "markdown",
      "source": [
        "### MARGEN TOTAL"
      ],
      "metadata": {
        "id": "y_rMfS7cy9M8"
      }
    },
    {
      "cell_type": "code",
      "source": [
        "margen_total = df['margen'].sum()"
      ],
      "metadata": {
        "id": "5Q8B8LyHzBWE"
      },
      "execution_count": 78,
      "outputs": []
    },
    {
      "cell_type": "markdown",
      "source": [
        "###CATEGORIA TOP"
      ],
      "metadata": {
        "id": "VihRvQG_zIqs"
      }
    },
    {
      "cell_type": "code",
      "source": [
        "df.columns"
      ],
      "metadata": {
        "colab": {
          "base_uri": "https://localhost:8080/"
        },
        "id": "tKp-MKShzg99",
        "outputId": "7a3895a6-1b56-4b58-d413-79757b86c300"
      },
      "execution_count": 80,
      "outputs": [
        {
          "output_type": "execute_result",
          "data": {
            "text/plain": [
              "Index(['id_venta', 'fecha', 'cliente', 'producto', 'categoria', 'cantidad',\n",
              "       'precio_unitario', 'descuento', 'metodo_pago', 'ciudad', 'total_venta',\n",
              "       'año-mes', 'dia', 'margen'],\n",
              "      dtype='object')"
            ]
          },
          "metadata": {},
          "execution_count": 80
        }
      ]
    },
    {
      "cell_type": "code",
      "source": [
        "categoria_top = df.groupby('categoria')['total_venta'].idxmax"
      ],
      "metadata": {
        "id": "vG6guYGNzLot"
      },
      "execution_count": 81,
      "outputs": []
    },
    {
      "cell_type": "markdown",
      "source": [
        "###VENTAS POR CATEGORIA"
      ],
      "metadata": {
        "id": "UU00L2po1JDR"
      }
    },
    {
      "cell_type": "code",
      "source": [
        "participacion_categorias = (df.groupby(\"categoria\")[\"total_venta\"].sum() / total_de_ventas * 100)"
      ],
      "metadata": {
        "id": "Xk9oNRVU0rdW"
      },
      "execution_count": 84,
      "outputs": []
    },
    {
      "cell_type": "code",
      "source": [
        "print(\"📊 MÉTRICAS RESUMEN\")\n",
        "print(f\"💰 Total de ventas: ${total_de_ventas:,.2f}\")\n",
        "print(f\"🧾 Ticket promedio: ${ticket_promedio:,.2f}\")\n",
        "print(f\"📈 Margen total estimado: ${margen_total:,.2f}\")\n",
        "print(f\"🏆 Categoría líder en ventas: {categoria_top}\")\n",
        "print(\"\\n% de participación por categoría:\\n\", participacion_categorias)"
      ],
      "metadata": {
        "colab": {
          "base_uri": "https://localhost:8080/"
        },
        "id": "TrUODC3b1WRJ",
        "outputId": "5abe989d-070a-4f42-9188-906885b3083d"
      },
      "execution_count": 86,
      "outputs": [
        {
          "output_type": "stream",
          "name": "stdout",
          "text": [
            "📊 MÉTRICAS RESUMEN\n",
            "💰 Total de ventas: $11,949,080.59\n",
            "🧾 Ticket promedio: $6,152.98\n",
            "📈 Margen total estimado: $2,389,816.10\n",
            "🏆 Categoría líder en ventas: <bound method SeriesGroupBy.idxmax of <pandas.core.groupby.generic.SeriesGroupBy object at 0x7cbdef6e3740>>\n",
            "\n",
            "% de participación por categoría:\n",
            " categoria\n",
            "Electrónica    38.504167\n",
            "Muebles        20.178838\n",
            "Oficina         9.947016\n",
            "Sin definir     4.401358\n",
            "Tecnología     26.968622\n",
            "Name: total_venta, dtype: float64\n"
          ]
        }
      ]
    }
  ]
}