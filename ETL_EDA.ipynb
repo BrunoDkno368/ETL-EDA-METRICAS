{
  "nbformat": 4,
  "nbformat_minor": 0,
  "metadata": {
    "colab": {
      "provenance": [],
      "mount_file_id": "1B-CksGwWNCa4EVo5CwG83zXyV6bEyCCE",
      "authorship_tag": "ABX9TyMlU6GpTnLUcJz7hIRu+ijw",
      "include_colab_link": true
    },
    "kernelspec": {
      "name": "python3",
      "display_name": "Python 3"
    },
    "language_info": {
      "name": "python"
    }
  },
  "cells": [
    {
      "cell_type": "markdown",
      "metadata": {
        "id": "view-in-github",
        "colab_type": "text"
      },
      "source": [
        "<a href=\"https://colab.research.google.com/github/BrunoDkno368/ETL-EDA-METRICAS/blob/main/ETL_EDA.ipynb\" target=\"_parent\"><img src=\"https://colab.research.google.com/assets/colab-badge.svg\" alt=\"Open In Colab\"/></a>"
      ]
    },
    {
      "cell_type": "code",
      "execution_count": 1,
      "metadata": {
        "id": "Ok-hxA78UutT"
      },
      "outputs": [],
      "source": [
        "import pandas as pd\n",
        "import numpy as np\n",
        "import matplotlib.pyplot as plt\n",
        "import seaborn as sns"
      ]
    },
    {
      "cell_type": "code",
      "source": [],
      "metadata": {
        "id": "jQWK02RXV_4S"
      },
      "execution_count": 1,
      "outputs": []
    },
    {
      "cell_type": "markdown",
      "source": [
        "#ETL"
      ],
      "metadata": {
        "id": "IA0M298s-u_H"
      }
    },
    {
      "cell_type": "markdown",
      "source": [
        "# EXTRAT (T)"
      ],
      "metadata": {
        "id": "EpLZSy6lWFu4"
      }
    },
    {
      "cell_type": "code",
      "source": [
        "df = pd.read_csv('/content/drive/MyDrive/EDA practica/ventas_reglas_negocio.csv')\n",
        "df.sample(5)"
      ],
      "metadata": {
        "colab": {
          "base_uri": "https://localhost:8080/",
          "height": 206
        },
        "id": "li14DasDV5EK",
        "outputId": "927275fa-6172-4b1a-f37b-c12ac0299ee3"
      },
      "execution_count": 2,
      "outputs": [
        {
          "output_type": "execute_result",
          "data": {
            "text/plain": [
              "      id_venta       fecha                         cliente     producto  \\\n",
              "1502      1503  2024-01-26              Noa Jaén Montalbán  Silla Gamer   \n",
              "1995      1996  2024-05-15              Nadia Godoy Sureda      Teclado   \n",
              "1446      1446  2025-02-08  Lourdes Paola Vilanova Pedraza    Impresora   \n",
              "1189      1190  2025-01-07             Josué Coloma Tirado       Laptop   \n",
              "604        605  2025-03-13           Reina Heredia Pujadas       Laptop   \n",
              "\n",
              "        categoria  cantidad  precio_unitario  descuento metodo_pago  \\\n",
              "1502      Muebles         9          2333.71       0.37    tarjerta   \n",
              "1995  Electrónica        10          1948.18       0.26    Efectivo   \n",
              "1446      Oficina         3           360.33       0.06    tarjerta   \n",
              "1189  Electrónica         8           540.25        NaN         NaN   \n",
              "604   Electrónica         2          1650.53        NaN     Tarjeta   \n",
              "\n",
              "            ciudad  total_venta  \n",
              "1502  Buenos Aires     13232.14  \n",
              "1995         Salta     14416.53  \n",
              "1446       Tucumán      1016.13  \n",
              "1189       Mendoza      3760.14  \n",
              "604        Córdoba      2706.87  "
            ],
            "text/html": [
              "\n",
              "  <div id=\"df-c87eeee6-6981-45de-b043-67cbaa6a53e5\" class=\"colab-df-container\">\n",
              "    <div>\n",
              "<style scoped>\n",
              "    .dataframe tbody tr th:only-of-type {\n",
              "        vertical-align: middle;\n",
              "    }\n",
              "\n",
              "    .dataframe tbody tr th {\n",
              "        vertical-align: top;\n",
              "    }\n",
              "\n",
              "    .dataframe thead th {\n",
              "        text-align: right;\n",
              "    }\n",
              "</style>\n",
              "<table border=\"1\" class=\"dataframe\">\n",
              "  <thead>\n",
              "    <tr style=\"text-align: right;\">\n",
              "      <th></th>\n",
              "      <th>id_venta</th>\n",
              "      <th>fecha</th>\n",
              "      <th>cliente</th>\n",
              "      <th>producto</th>\n",
              "      <th>categoria</th>\n",
              "      <th>cantidad</th>\n",
              "      <th>precio_unitario</th>\n",
              "      <th>descuento</th>\n",
              "      <th>metodo_pago</th>\n",
              "      <th>ciudad</th>\n",
              "      <th>total_venta</th>\n",
              "    </tr>\n",
              "  </thead>\n",
              "  <tbody>\n",
              "    <tr>\n",
              "      <th>1502</th>\n",
              "      <td>1503</td>\n",
              "      <td>2024-01-26</td>\n",
              "      <td>Noa Jaén Montalbán</td>\n",
              "      <td>Silla Gamer</td>\n",
              "      <td>Muebles</td>\n",
              "      <td>9</td>\n",
              "      <td>2333.71</td>\n",
              "      <td>0.37</td>\n",
              "      <td>tarjerta</td>\n",
              "      <td>Buenos Aires</td>\n",
              "      <td>13232.14</td>\n",
              "    </tr>\n",
              "    <tr>\n",
              "      <th>1995</th>\n",
              "      <td>1996</td>\n",
              "      <td>2024-05-15</td>\n",
              "      <td>Nadia Godoy Sureda</td>\n",
              "      <td>Teclado</td>\n",
              "      <td>Electrónica</td>\n",
              "      <td>10</td>\n",
              "      <td>1948.18</td>\n",
              "      <td>0.26</td>\n",
              "      <td>Efectivo</td>\n",
              "      <td>Salta</td>\n",
              "      <td>14416.53</td>\n",
              "    </tr>\n",
              "    <tr>\n",
              "      <th>1446</th>\n",
              "      <td>1446</td>\n",
              "      <td>2025-02-08</td>\n",
              "      <td>Lourdes Paola Vilanova Pedraza</td>\n",
              "      <td>Impresora</td>\n",
              "      <td>Oficina</td>\n",
              "      <td>3</td>\n",
              "      <td>360.33</td>\n",
              "      <td>0.06</td>\n",
              "      <td>tarjerta</td>\n",
              "      <td>Tucumán</td>\n",
              "      <td>1016.13</td>\n",
              "    </tr>\n",
              "    <tr>\n",
              "      <th>1189</th>\n",
              "      <td>1190</td>\n",
              "      <td>2025-01-07</td>\n",
              "      <td>Josué Coloma Tirado</td>\n",
              "      <td>Laptop</td>\n",
              "      <td>Electrónica</td>\n",
              "      <td>8</td>\n",
              "      <td>540.25</td>\n",
              "      <td>NaN</td>\n",
              "      <td>NaN</td>\n",
              "      <td>Mendoza</td>\n",
              "      <td>3760.14</td>\n",
              "    </tr>\n",
              "    <tr>\n",
              "      <th>604</th>\n",
              "      <td>605</td>\n",
              "      <td>2025-03-13</td>\n",
              "      <td>Reina Heredia Pujadas</td>\n",
              "      <td>Laptop</td>\n",
              "      <td>Electrónica</td>\n",
              "      <td>2</td>\n",
              "      <td>1650.53</td>\n",
              "      <td>NaN</td>\n",
              "      <td>Tarjeta</td>\n",
              "      <td>Córdoba</td>\n",
              "      <td>2706.87</td>\n",
              "    </tr>\n",
              "  </tbody>\n",
              "</table>\n",
              "</div>\n",
              "    <div class=\"colab-df-buttons\">\n",
              "\n",
              "  <div class=\"colab-df-container\">\n",
              "    <button class=\"colab-df-convert\" onclick=\"convertToInteractive('df-c87eeee6-6981-45de-b043-67cbaa6a53e5')\"\n",
              "            title=\"Convert this dataframe to an interactive table.\"\n",
              "            style=\"display:none;\">\n",
              "\n",
              "  <svg xmlns=\"http://www.w3.org/2000/svg\" height=\"24px\" viewBox=\"0 -960 960 960\">\n",
              "    <path d=\"M120-120v-720h720v720H120Zm60-500h600v-160H180v160Zm220 220h160v-160H400v160Zm0 220h160v-160H400v160ZM180-400h160v-160H180v160Zm440 0h160v-160H620v160ZM180-180h160v-160H180v160Zm440 0h160v-160H620v160Z\"/>\n",
              "  </svg>\n",
              "    </button>\n",
              "\n",
              "  <style>\n",
              "    .colab-df-container {\n",
              "      display:flex;\n",
              "      gap: 12px;\n",
              "    }\n",
              "\n",
              "    .colab-df-convert {\n",
              "      background-color: #E8F0FE;\n",
              "      border: none;\n",
              "      border-radius: 50%;\n",
              "      cursor: pointer;\n",
              "      display: none;\n",
              "      fill: #1967D2;\n",
              "      height: 32px;\n",
              "      padding: 0 0 0 0;\n",
              "      width: 32px;\n",
              "    }\n",
              "\n",
              "    .colab-df-convert:hover {\n",
              "      background-color: #E2EBFA;\n",
              "      box-shadow: 0px 1px 2px rgba(60, 64, 67, 0.3), 0px 1px 3px 1px rgba(60, 64, 67, 0.15);\n",
              "      fill: #174EA6;\n",
              "    }\n",
              "\n",
              "    .colab-df-buttons div {\n",
              "      margin-bottom: 4px;\n",
              "    }\n",
              "\n",
              "    [theme=dark] .colab-df-convert {\n",
              "      background-color: #3B4455;\n",
              "      fill: #D2E3FC;\n",
              "    }\n",
              "\n",
              "    [theme=dark] .colab-df-convert:hover {\n",
              "      background-color: #434B5C;\n",
              "      box-shadow: 0px 1px 3px 1px rgba(0, 0, 0, 0.15);\n",
              "      filter: drop-shadow(0px 1px 2px rgba(0, 0, 0, 0.3));\n",
              "      fill: #FFFFFF;\n",
              "    }\n",
              "  </style>\n",
              "\n",
              "    <script>\n",
              "      const buttonEl =\n",
              "        document.querySelector('#df-c87eeee6-6981-45de-b043-67cbaa6a53e5 button.colab-df-convert');\n",
              "      buttonEl.style.display =\n",
              "        google.colab.kernel.accessAllowed ? 'block' : 'none';\n",
              "\n",
              "      async function convertToInteractive(key) {\n",
              "        const element = document.querySelector('#df-c87eeee6-6981-45de-b043-67cbaa6a53e5');\n",
              "        const dataTable =\n",
              "          await google.colab.kernel.invokeFunction('convertToInteractive',\n",
              "                                                    [key], {});\n",
              "        if (!dataTable) return;\n",
              "\n",
              "        const docLinkHtml = 'Like what you see? Visit the ' +\n",
              "          '<a target=\"_blank\" href=https://colab.research.google.com/notebooks/data_table.ipynb>data table notebook</a>'\n",
              "          + ' to learn more about interactive tables.';\n",
              "        element.innerHTML = '';\n",
              "        dataTable['output_type'] = 'display_data';\n",
              "        await google.colab.output.renderOutput(dataTable, element);\n",
              "        const docLink = document.createElement('div');\n",
              "        docLink.innerHTML = docLinkHtml;\n",
              "        element.appendChild(docLink);\n",
              "      }\n",
              "    </script>\n",
              "  </div>\n",
              "\n",
              "\n",
              "    <div id=\"df-07dbb11e-af7a-4f9c-b123-2b6e1f173ed2\">\n",
              "      <button class=\"colab-df-quickchart\" onclick=\"quickchart('df-07dbb11e-af7a-4f9c-b123-2b6e1f173ed2')\"\n",
              "                title=\"Suggest charts\"\n",
              "                style=\"display:none;\">\n",
              "\n",
              "<svg xmlns=\"http://www.w3.org/2000/svg\" height=\"24px\"viewBox=\"0 0 24 24\"\n",
              "     width=\"24px\">\n",
              "    <g>\n",
              "        <path d=\"M19 3H5c-1.1 0-2 .9-2 2v14c0 1.1.9 2 2 2h14c1.1 0 2-.9 2-2V5c0-1.1-.9-2-2-2zM9 17H7v-7h2v7zm4 0h-2V7h2v10zm4 0h-2v-4h2v4z\"/>\n",
              "    </g>\n",
              "</svg>\n",
              "      </button>\n",
              "\n",
              "<style>\n",
              "  .colab-df-quickchart {\n",
              "      --bg-color: #E8F0FE;\n",
              "      --fill-color: #1967D2;\n",
              "      --hover-bg-color: #E2EBFA;\n",
              "      --hover-fill-color: #174EA6;\n",
              "      --disabled-fill-color: #AAA;\n",
              "      --disabled-bg-color: #DDD;\n",
              "  }\n",
              "\n",
              "  [theme=dark] .colab-df-quickchart {\n",
              "      --bg-color: #3B4455;\n",
              "      --fill-color: #D2E3FC;\n",
              "      --hover-bg-color: #434B5C;\n",
              "      --hover-fill-color: #FFFFFF;\n",
              "      --disabled-bg-color: #3B4455;\n",
              "      --disabled-fill-color: #666;\n",
              "  }\n",
              "\n",
              "  .colab-df-quickchart {\n",
              "    background-color: var(--bg-color);\n",
              "    border: none;\n",
              "    border-radius: 50%;\n",
              "    cursor: pointer;\n",
              "    display: none;\n",
              "    fill: var(--fill-color);\n",
              "    height: 32px;\n",
              "    padding: 0;\n",
              "    width: 32px;\n",
              "  }\n",
              "\n",
              "  .colab-df-quickchart:hover {\n",
              "    background-color: var(--hover-bg-color);\n",
              "    box-shadow: 0 1px 2px rgba(60, 64, 67, 0.3), 0 1px 3px 1px rgba(60, 64, 67, 0.15);\n",
              "    fill: var(--button-hover-fill-color);\n",
              "  }\n",
              "\n",
              "  .colab-df-quickchart-complete:disabled,\n",
              "  .colab-df-quickchart-complete:disabled:hover {\n",
              "    background-color: var(--disabled-bg-color);\n",
              "    fill: var(--disabled-fill-color);\n",
              "    box-shadow: none;\n",
              "  }\n",
              "\n",
              "  .colab-df-spinner {\n",
              "    border: 2px solid var(--fill-color);\n",
              "    border-color: transparent;\n",
              "    border-bottom-color: var(--fill-color);\n",
              "    animation:\n",
              "      spin 1s steps(1) infinite;\n",
              "  }\n",
              "\n",
              "  @keyframes spin {\n",
              "    0% {\n",
              "      border-color: transparent;\n",
              "      border-bottom-color: var(--fill-color);\n",
              "      border-left-color: var(--fill-color);\n",
              "    }\n",
              "    20% {\n",
              "      border-color: transparent;\n",
              "      border-left-color: var(--fill-color);\n",
              "      border-top-color: var(--fill-color);\n",
              "    }\n",
              "    30% {\n",
              "      border-color: transparent;\n",
              "      border-left-color: var(--fill-color);\n",
              "      border-top-color: var(--fill-color);\n",
              "      border-right-color: var(--fill-color);\n",
              "    }\n",
              "    40% {\n",
              "      border-color: transparent;\n",
              "      border-right-color: var(--fill-color);\n",
              "      border-top-color: var(--fill-color);\n",
              "    }\n",
              "    60% {\n",
              "      border-color: transparent;\n",
              "      border-right-color: var(--fill-color);\n",
              "    }\n",
              "    80% {\n",
              "      border-color: transparent;\n",
              "      border-right-color: var(--fill-color);\n",
              "      border-bottom-color: var(--fill-color);\n",
              "    }\n",
              "    90% {\n",
              "      border-color: transparent;\n",
              "      border-bottom-color: var(--fill-color);\n",
              "    }\n",
              "  }\n",
              "</style>\n",
              "\n",
              "      <script>\n",
              "        async function quickchart(key) {\n",
              "          const quickchartButtonEl =\n",
              "            document.querySelector('#' + key + ' button');\n",
              "          quickchartButtonEl.disabled = true;  // To prevent multiple clicks.\n",
              "          quickchartButtonEl.classList.add('colab-df-spinner');\n",
              "          try {\n",
              "            const charts = await google.colab.kernel.invokeFunction(\n",
              "                'suggestCharts', [key], {});\n",
              "          } catch (error) {\n",
              "            console.error('Error during call to suggestCharts:', error);\n",
              "          }\n",
              "          quickchartButtonEl.classList.remove('colab-df-spinner');\n",
              "          quickchartButtonEl.classList.add('colab-df-quickchart-complete');\n",
              "        }\n",
              "        (() => {\n",
              "          let quickchartButtonEl =\n",
              "            document.querySelector('#df-07dbb11e-af7a-4f9c-b123-2b6e1f173ed2 button');\n",
              "          quickchartButtonEl.style.display =\n",
              "            google.colab.kernel.accessAllowed ? 'block' : 'none';\n",
              "        })();\n",
              "      </script>\n",
              "    </div>\n",
              "\n",
              "    </div>\n",
              "  </div>\n"
            ],
            "application/vnd.google.colaboratory.intrinsic+json": {
              "type": "dataframe",
              "repr_error": "0"
            }
          },
          "metadata": {},
          "execution_count": 2
        }
      ]
    },
    {
      "cell_type": "code",
      "source": [
        "df.info()"
      ],
      "metadata": {
        "colab": {
          "base_uri": "https://localhost:8080/"
        },
        "id": "7e2vVaq9Wlz_",
        "outputId": "d9382af6-4453-4ca0-9ae5-d9d026d34178"
      },
      "execution_count": 3,
      "outputs": [
        {
          "output_type": "stream",
          "name": "stdout",
          "text": [
            "<class 'pandas.core.frame.DataFrame'>\n",
            "RangeIndex: 2000 entries, 0 to 1999\n",
            "Data columns (total 11 columns):\n",
            " #   Column           Non-Null Count  Dtype  \n",
            "---  ------           --------------  -----  \n",
            " 0   id_venta         2000 non-null   int64  \n",
            " 1   fecha            1951 non-null   object \n",
            " 2   cliente          1912 non-null   object \n",
            " 3   producto         2000 non-null   object \n",
            " 4   categoria        1911 non-null   object \n",
            " 5   cantidad         2000 non-null   int64  \n",
            " 6   precio_unitario  1942 non-null   float64\n",
            " 7   descuento        1901 non-null   float64\n",
            " 8   metodo_pago      1585 non-null   object \n",
            " 9   ciudad           1704 non-null   object \n",
            " 10  total_venta      2000 non-null   float64\n",
            "dtypes: float64(3), int64(2), object(6)\n",
            "memory usage: 172.0+ KB\n"
          ]
        }
      ]
    },
    {
      "cell_type": "markdown",
      "source": [
        "observaciones : verificamos que tiene 2000 registros con un total de 11 columnas"
      ],
      "metadata": {
        "id": "zKlxfGmYWsOG"
      }
    },
    {
      "cell_type": "markdown",
      "source": [
        "#TRANSFORM (T)"
      ],
      "metadata": {
        "id": "wDN6uOqAWNVH"
      }
    },
    {
      "cell_type": "code",
      "source": [
        "print ('Los tados nulos son:',df.isnull().sum())"
      ],
      "metadata": {
        "colab": {
          "base_uri": "https://localhost:8080/"
        },
        "id": "tbNHsxJ5V5BY",
        "outputId": "26f1da3a-8b61-4d80-c1a3-c4a8e0c12db1"
      },
      "execution_count": 4,
      "outputs": [
        {
          "output_type": "stream",
          "name": "stdout",
          "text": [
            "Los tados nulos son: id_venta             0\n",
            "fecha               49\n",
            "cliente             88\n",
            "producto             0\n",
            "categoria           89\n",
            "cantidad             0\n",
            "precio_unitario     58\n",
            "descuento           99\n",
            "metodo_pago        415\n",
            "ciudad             296\n",
            "total_venta          0\n",
            "dtype: int64\n"
          ]
        }
      ]
    },
    {
      "cell_type": "markdown",
      "source": [
        "##MANEJO DE DUPLICADOS"
      ],
      "metadata": {
        "id": "0tDXjg7iZEBz"
      }
    },
    {
      "cell_type": "code",
      "source": [
        "print('Los duplicados son:',df.duplicated().sum())"
      ],
      "metadata": {
        "colab": {
          "base_uri": "https://localhost:8080/"
        },
        "id": "u7OhLetZZSoa",
        "outputId": "a358b92e-7801-41f3-c544-7f6ae2d4ea1b"
      },
      "execution_count": 5,
      "outputs": [
        {
          "output_type": "stream",
          "name": "stdout",
          "text": [
            "Los duplicados son: 0\n"
          ]
        }
      ]
    },
    {
      "cell_type": "markdown",
      "source": [
        "observaciones: No tiene duplicados"
      ],
      "metadata": {
        "id": "fsh95uTEZX-S"
      }
    },
    {
      "cell_type": "markdown",
      "source": [
        "## MANEJO DE NULOS"
      ],
      "metadata": {
        "id": "Dea8HjlxYc20"
      }
    },
    {
      "cell_type": "code",
      "source": [
        "df['cliente'].isna().sum()"
      ],
      "metadata": {
        "colab": {
          "base_uri": "https://localhost:8080/"
        },
        "id": "_QIBS_4taMCZ",
        "outputId": "765b8c83-22d7-44b2-8f5d-d54af3b5ffd7"
      },
      "execution_count": 6,
      "outputs": [
        {
          "output_type": "execute_result",
          "data": {
            "text/plain": [
              "np.int64(88)"
            ]
          },
          "metadata": {},
          "execution_count": 6
        }
      ]
    },
    {
      "cell_type": "markdown",
      "source": [
        "observaciones: tiene 88 datos nulos"
      ],
      "metadata": {
        "id": "8wiIhhQwaYlj"
      }
    },
    {
      "cell_type": "code",
      "source": [
        "df['cliente'].unique()"
      ],
      "metadata": {
        "colab": {
          "base_uri": "https://localhost:8080/"
        },
        "id": "aBAw6dykZ6YZ",
        "outputId": "27128f51-b301-4df9-dc75-4bdf93e6b7b4"
      },
      "execution_count": 7,
      "outputs": [
        {
          "output_type": "execute_result",
          "data": {
            "text/plain": [
              "array(['Enrique Cabo', 'Eufemia Montalbán Caballero', 'Vilma Salom Jover',\n",
              "       ..., 'Elena Luján Guitart', 'Sabina Roda Valenciano',\n",
              "       'Artemio Escudero'], dtype=object)"
            ]
          },
          "metadata": {},
          "execution_count": 7
        }
      ]
    },
    {
      "cell_type": "code",
      "source": [
        "df['cliente']= df['cliente'].fillna('Desconocido')"
      ],
      "metadata": {
        "id": "Zcg2iaUEV4-I"
      },
      "execution_count": 8,
      "outputs": []
    },
    {
      "cell_type": "code",
      "source": [
        "df['cliente'].isna().sum()"
      ],
      "metadata": {
        "colab": {
          "base_uri": "https://localhost:8080/"
        },
        "id": "bErqgoMeV47A",
        "outputId": "45393981-0de4-4cae-9e71-233a47db2f9c"
      },
      "execution_count": 9,
      "outputs": [
        {
          "output_type": "execute_result",
          "data": {
            "text/plain": [
              "np.int64(0)"
            ]
          },
          "metadata": {},
          "execution_count": 9
        }
      ]
    },
    {
      "cell_type": "markdown",
      "source": [
        "obsercaciones: ya no posee datos vacios o nulos"
      ],
      "metadata": {
        "id": "bFPBvScRaeZI"
      }
    },
    {
      "cell_type": "markdown",
      "source": [
        "### TRANSFORMACIONES"
      ],
      "metadata": {
        "id": "w55-Mo5Hmh5m"
      }
    },
    {
      "cell_type": "code",
      "source": [
        "df['categoria'].isnull().sum()"
      ],
      "metadata": {
        "colab": {
          "base_uri": "https://localhost:8080/"
        },
        "id": "679vV-yQV44g",
        "outputId": "89cb079f-3ea2-46b5-e23c-42c8f0f9ecee"
      },
      "execution_count": 10,
      "outputs": [
        {
          "output_type": "execute_result",
          "data": {
            "text/plain": [
              "np.int64(89)"
            ]
          },
          "metadata": {},
          "execution_count": 10
        }
      ]
    },
    {
      "cell_type": "code",
      "source": [
        "df['categoria']= df['categoria'].fillna('Desconocido')"
      ],
      "metadata": {
        "id": "wQ2RdgngV41o"
      },
      "execution_count": 11,
      "outputs": []
    },
    {
      "cell_type": "code",
      "source": [
        "df['categoria'].isnull().sum()"
      ],
      "metadata": {
        "colab": {
          "base_uri": "https://localhost:8080/"
        },
        "id": "lMcFLE3JV4yw",
        "outputId": "4965172f-4b1c-456a-8730-cc6461552e97"
      },
      "execution_count": 12,
      "outputs": [
        {
          "output_type": "execute_result",
          "data": {
            "text/plain": [
              "np.int64(0)"
            ]
          },
          "metadata": {},
          "execution_count": 12
        }
      ]
    },
    {
      "cell_type": "code",
      "source": [
        "df['ciudad'].isnull().sum()"
      ],
      "metadata": {
        "colab": {
          "base_uri": "https://localhost:8080/"
        },
        "id": "T3c29XbDV4wI",
        "outputId": "6628c1b5-0c04-49e8-adf8-c8cd38629080"
      },
      "execution_count": 13,
      "outputs": [
        {
          "output_type": "execute_result",
          "data": {
            "text/plain": [
              "np.int64(296)"
            ]
          },
          "metadata": {},
          "execution_count": 13
        }
      ]
    },
    {
      "cell_type": "code",
      "source": [
        "df['ciudad']= df['ciudad'].fillna('Desconocido')\n"
      ],
      "metadata": {
        "id": "xz9QsCK-V4tg"
      },
      "execution_count": 14,
      "outputs": []
    },
    {
      "cell_type": "code",
      "source": [
        "df['ciudad'].isnull().sum()"
      ],
      "metadata": {
        "colab": {
          "base_uri": "https://localhost:8080/"
        },
        "id": "9DPCkM7DV4q4",
        "outputId": "217fd7b3-b18d-486e-e416-e5491fc0a9e7"
      },
      "execution_count": 15,
      "outputs": [
        {
          "output_type": "execute_result",
          "data": {
            "text/plain": [
              "np.int64(0)"
            ]
          },
          "metadata": {},
          "execution_count": 15
        }
      ]
    },
    {
      "cell_type": "code",
      "source": [
        "df['metodo_pago'].isnull().sum()"
      ],
      "metadata": {
        "colab": {
          "base_uri": "https://localhost:8080/"
        },
        "id": "eLUMXJJ1V4oQ",
        "outputId": "2467c23a-03e1-487c-f5e6-f3eeda0d9da3"
      },
      "execution_count": 16,
      "outputs": [
        {
          "output_type": "execute_result",
          "data": {
            "text/plain": [
              "np.int64(415)"
            ]
          },
          "metadata": {},
          "execution_count": 16
        }
      ]
    },
    {
      "cell_type": "code",
      "source": [
        "df['metodo_pago'] = df['metodo_pago'].fillna('Desconocido')"
      ],
      "metadata": {
        "id": "3k8WpoMVV4lo"
      },
      "execution_count": 17,
      "outputs": []
    },
    {
      "cell_type": "code",
      "source": [
        "df['descuento'].isnull().sum()"
      ],
      "metadata": {
        "colab": {
          "base_uri": "https://localhost:8080/"
        },
        "id": "lEjZ23H7h8tV",
        "outputId": "acb9cf4b-2409-4e3f-c7db-5c1dfba72e2f"
      },
      "execution_count": 18,
      "outputs": [
        {
          "output_type": "execute_result",
          "data": {
            "text/plain": [
              "np.int64(99)"
            ]
          },
          "metadata": {},
          "execution_count": 18
        }
      ]
    },
    {
      "cell_type": "code",
      "source": [
        "df['descuento'] = df['descuento'].fillna(0)"
      ],
      "metadata": {
        "id": "4W3EHEpHiE5M"
      },
      "execution_count": 19,
      "outputs": []
    },
    {
      "cell_type": "code",
      "source": [
        "df['descuento'].isnull().sum()"
      ],
      "metadata": {
        "colab": {
          "base_uri": "https://localhost:8080/"
        },
        "id": "Lztazv-6iNlc",
        "outputId": "317eb307-326a-468d-b4f6-ca03b43adba2"
      },
      "execution_count": 20,
      "outputs": [
        {
          "output_type": "execute_result",
          "data": {
            "text/plain": [
              "np.int64(0)"
            ]
          },
          "metadata": {},
          "execution_count": 20
        }
      ]
    },
    {
      "cell_type": "markdown",
      "source": [
        "ELIMINAMOS NULOS"
      ],
      "metadata": {
        "id": "87HPH_LBc8Zx"
      }
    },
    {
      "cell_type": "code",
      "source": [
        "df['precio_unitario'].isnull().sum()"
      ],
      "metadata": {
        "colab": {
          "base_uri": "https://localhost:8080/"
        },
        "id": "7HP8dcNYV4jJ",
        "outputId": "e4783cc7-e00e-4aa1-f735-30e6b1c1c4a8"
      },
      "execution_count": 21,
      "outputs": [
        {
          "output_type": "execute_result",
          "data": {
            "text/plain": [
              "np.int64(58)"
            ]
          },
          "metadata": {},
          "execution_count": 21
        }
      ]
    },
    {
      "cell_type": "code",
      "source": [
        "df= df.dropna(subset=['precio_unitario'])"
      ],
      "metadata": {
        "id": "ZmZ7O1EaV4eQ"
      },
      "execution_count": 22,
      "outputs": []
    },
    {
      "cell_type": "code",
      "source": [
        "df['precio_unitario'].isnull().sum()"
      ],
      "metadata": {
        "colab": {
          "base_uri": "https://localhost:8080/"
        },
        "id": "fZA-Oax_V4Ix",
        "outputId": "89164f3f-7342-47af-848b-5cfa7a814010"
      },
      "execution_count": 23,
      "outputs": [
        {
          "output_type": "execute_result",
          "data": {
            "text/plain": [
              "np.int64(0)"
            ]
          },
          "metadata": {},
          "execution_count": 23
        }
      ]
    },
    {
      "cell_type": "markdown",
      "source": [
        "observaciones: eliminamos los precios unitarios que no tiene datos por regla de negocio"
      ],
      "metadata": {
        "id": "RBjRPSIYcv-N"
      }
    },
    {
      "cell_type": "code",
      "source": [
        "df['fecha'].isnull().sum()"
      ],
      "metadata": {
        "colab": {
          "base_uri": "https://localhost:8080/"
        },
        "id": "D4UmxUihjOXL",
        "outputId": "fa76ea60-ae0f-454f-ae1a-1e778abf14f5"
      },
      "execution_count": 24,
      "outputs": [
        {
          "output_type": "execute_result",
          "data": {
            "text/plain": [
              "np.int64(47)"
            ]
          },
          "metadata": {},
          "execution_count": 24
        }
      ]
    },
    {
      "cell_type": "code",
      "source": [
        "df= df.dropna(subset=['fecha'])"
      ],
      "metadata": {
        "id": "qdfoGHBEdGvs"
      },
      "execution_count": 25,
      "outputs": []
    },
    {
      "cell_type": "code",
      "source": [
        "df['fecha'].isnull().sum()"
      ],
      "metadata": {
        "colab": {
          "base_uri": "https://localhost:8080/"
        },
        "id": "KTb3o0BhdHX4",
        "outputId": "b6b67c2f-48e6-468b-f225-e68414ea208e"
      },
      "execution_count": 26,
      "outputs": [
        {
          "output_type": "execute_result",
          "data": {
            "text/plain": [
              "np.int64(0)"
            ]
          },
          "metadata": {},
          "execution_count": 26
        }
      ]
    },
    {
      "cell_type": "code",
      "source": [
        "print('el df ya no posee datos nulos o vacios',df.isnull().sum())"
      ],
      "metadata": {
        "colab": {
          "base_uri": "https://localhost:8080/"
        },
        "id": "AAIHqk7udHVN",
        "outputId": "eecc8015-318e-4562-f010-95c6e11fbfc6"
      },
      "execution_count": 27,
      "outputs": [
        {
          "output_type": "stream",
          "name": "stdout",
          "text": [
            "el df ya no posee datos nulos o vacios id_venta           0\n",
            "fecha              0\n",
            "cliente            0\n",
            "producto           0\n",
            "categoria          0\n",
            "cantidad           0\n",
            "precio_unitario    0\n",
            "descuento          0\n",
            "metodo_pago        0\n",
            "ciudad             0\n",
            "total_venta        0\n",
            "dtype: int64\n"
          ]
        }
      ]
    },
    {
      "cell_type": "markdown",
      "source": [
        "## CORRECCION DE TIPO"
      ],
      "metadata": {
        "id": "4EYsmY-ZqeVH"
      }
    },
    {
      "cell_type": "code",
      "source": [
        "print('las columnas don del typo:',df.dtypes)"
      ],
      "metadata": {
        "colab": {
          "base_uri": "https://localhost:8080/"
        },
        "id": "XXMBptTfdHSc",
        "outputId": "b15e6eb0-e52f-4711-b896-ae521492b58b"
      },
      "execution_count": 28,
      "outputs": [
        {
          "output_type": "stream",
          "name": "stdout",
          "text": [
            "las columnas don del typo: id_venta             int64\n",
            "fecha               object\n",
            "cliente             object\n",
            "producto            object\n",
            "categoria           object\n",
            "cantidad             int64\n",
            "precio_unitario    float64\n",
            "descuento          float64\n",
            "metodo_pago         object\n",
            "ciudad              object\n",
            "total_venta        float64\n",
            "dtype: object\n"
          ]
        }
      ]
    },
    {
      "cell_type": "code",
      "source": [
        "df['fecha']= pd.to_datetime(df['fecha'], errors= 'coerce')"
      ],
      "metadata": {
        "id": "lpk7wuGfdHQE"
      },
      "execution_count": 29,
      "outputs": []
    },
    {
      "cell_type": "code",
      "source": [
        "print('las columnas fecha cambio de tipo:',df['fecha'].dtypes)"
      ],
      "metadata": {
        "colab": {
          "base_uri": "https://localhost:8080/"
        },
        "id": "IPi2O6b5dHNM",
        "outputId": "6ad68d67-4dda-4414-c004-dc3bde92b58b"
      },
      "execution_count": 30,
      "outputs": [
        {
          "output_type": "stream",
          "name": "stdout",
          "text": [
            "las columnas fecha cambio de tipo: datetime64[ns]\n"
          ]
        }
      ]
    },
    {
      "cell_type": "markdown",
      "source": [
        "## CREAR COLUMNAS"
      ],
      "metadata": {
        "id": "QgTb94UEsNxU"
      }
    },
    {
      "cell_type": "markdown",
      "source": [
        "###AÑO/MES"
      ],
      "metadata": {
        "id": "fESPZAUr6qV9"
      }
    },
    {
      "cell_type": "code",
      "source": [
        "df['año/mes'] = df['fecha'].dt.to_period('M')"
      ],
      "metadata": {
        "id": "7myc3-WHsFyv"
      },
      "execution_count": 31,
      "outputs": []
    },
    {
      "cell_type": "code",
      "source": [
        "print('comprobando la nueva columna: ',df['año/mes'].sample(5))"
      ],
      "metadata": {
        "colab": {
          "base_uri": "https://localhost:8080/"
        },
        "id": "hf0L-QRNsFwR",
        "outputId": "cfa8d185-fc86-4ebb-b1cd-2b688edd7694"
      },
      "execution_count": 32,
      "outputs": [
        {
          "output_type": "stream",
          "name": "stdout",
          "text": [
            "comprobando la nueva columna:  536     2024-05\n",
            "1833    2023-07\n",
            "1482    2025-01\n",
            "515     2025-01\n",
            "1310    2025-02\n",
            "Name: año/mes, dtype: period[M]\n"
          ]
        }
      ]
    },
    {
      "cell_type": "markdown",
      "source": [
        "### DIA"
      ],
      "metadata": {
        "id": "CcwkDTxZ6ulN"
      }
    },
    {
      "cell_type": "code",
      "source": [
        "df['dia'] = df['fecha'].dt.day_name()"
      ],
      "metadata": {
        "id": "lZyNeOpUsFt-"
      },
      "execution_count": 33,
      "outputs": []
    },
    {
      "cell_type": "code",
      "source": [
        "print('la nueva columna dia queda: ',df['dia'].sample(5))"
      ],
      "metadata": {
        "colab": {
          "base_uri": "https://localhost:8080/"
        },
        "id": "E-Py0Rmo6uD9",
        "outputId": "785cb4eb-90c3-4333-f1f1-4e1d76aba364"
      },
      "execution_count": 34,
      "outputs": [
        {
          "output_type": "stream",
          "name": "stdout",
          "text": [
            "la nueva columna dia queda:  839       Tuesday\n",
            "1749       Sunday\n",
            "911       Tuesday\n",
            "1180     Thursday\n",
            "1533    Wednesday\n",
            "Name: dia, dtype: object\n"
          ]
        }
      ]
    },
    {
      "cell_type": "markdown",
      "source": [
        "###MARGEN"
      ],
      "metadata": {
        "id": "js-K5LXV7Ywd"
      }
    },
    {
      "cell_type": "code",
      "source": [
        "df['margen'] = (df['total_venta']*0.2).round(2)"
      ],
      "metadata": {
        "id": "M0fGFXvjsFrd"
      },
      "execution_count": 35,
      "outputs": []
    },
    {
      "cell_type": "code",
      "source": [
        "print('la nueva columna queda:', df['margen'].sample(5))"
      ],
      "metadata": {
        "colab": {
          "base_uri": "https://localhost:8080/"
        },
        "id": "jhakJa2EsFo9",
        "outputId": "9f12d6ef-7a5b-491c-992b-255efbe7f5e1"
      },
      "execution_count": 36,
      "outputs": [
        {
          "output_type": "stream",
          "name": "stdout",
          "text": [
            "la nueva columna queda: 169     2368.91\n",
            "1119     510.57\n",
            "196      384.81\n",
            "1754     189.44\n",
            "1598     601.54\n",
            "Name: margen, dtype: float64\n"
          ]
        }
      ]
    },
    {
      "cell_type": "markdown",
      "source": [
        "##LOAD(L)"
      ],
      "metadata": {
        "id": "kzfn6aWc8MQ8"
      }
    },
    {
      "cell_type": "code",
      "source": [
        "df.to_csv('ETL_EDA_limpio.csv', index=False)"
      ],
      "metadata": {
        "id": "Ul4JLh5RsFmm"
      },
      "execution_count": 37,
      "outputs": []
    },
    {
      "cell_type": "markdown",
      "source": [
        "#EDA"
      ],
      "metadata": {
        "id": "IBtQRDgB-04n"
      }
    },
    {
      "cell_type": "markdown",
      "source": [
        "##KPI"
      ],
      "metadata": {
        "id": "5NqGfsMvDHlK"
      }
    },
    {
      "cell_type": "markdown",
      "source": [
        "### VENTAS TOTALES"
      ],
      "metadata": {
        "id": "_UeE50Z8_Zq2"
      }
    },
    {
      "cell_type": "code",
      "source": [
        "total_ventas= sum(df['total_venta'])\n",
        "print('las ventas totales son: $',total_ventas)"
      ],
      "metadata": {
        "colab": {
          "base_uri": "https://localhost:8080/"
        },
        "id": "2GHBE3G5sFkF",
        "outputId": "ad4be563-3abc-4a98-a239-b4093a361baa"
      },
      "execution_count": 38,
      "outputs": [
        {
          "output_type": "stream",
          "name": "stdout",
          "text": [
            "las ventas totales son: $ 11694537.1\n"
          ]
        }
      ]
    },
    {
      "cell_type": "markdown",
      "source": [
        "### TK PROMEDIO"
      ],
      "metadata": {
        "id": "QXPFLYjZB-QK"
      }
    },
    {
      "cell_type": "code",
      "source": [
        "tk_promedio= df['total_venta'].mean()\n",
        "print('el tk promedio es: $',tk_promedio)"
      ],
      "metadata": {
        "colab": {
          "base_uri": "https://localhost:8080/"
        },
        "id": "CpkN_QwssFfU",
        "outputId": "12c71b8e-8925-49f5-c4f8-291ae8df702f"
      },
      "execution_count": 39,
      "outputs": [
        {
          "output_type": "stream",
          "name": "stdout",
          "text": [
            "el tk promedio es: $ 6171.25968337731\n"
          ]
        }
      ]
    },
    {
      "cell_type": "markdown",
      "source": [
        "###MARGEN TOTAL"
      ],
      "metadata": {
        "id": "xu8BAc_QCs2y"
      }
    },
    {
      "cell_type": "code",
      "source": [
        "margen_total= sum(df['margen'])\n",
        "print('el margen total es: $',margen_total)"
      ],
      "metadata": {
        "colab": {
          "base_uri": "https://localhost:8080/"
        },
        "id": "6OEbnN7OsFcc",
        "outputId": "c36c4821-6edc-4f70-aca5-aa4ab328e28c"
      },
      "execution_count": 40,
      "outputs": [
        {
          "output_type": "stream",
          "name": "stdout",
          "text": [
            "el margen total es: $ 2338907.38\n"
          ]
        }
      ]
    },
    {
      "cell_type": "markdown",
      "source": [
        "##GRAFICOS"
      ],
      "metadata": {
        "id": "ADF2sZBEDLHy"
      }
    },
    {
      "cell_type": "markdown",
      "source": [
        "###VENTAS POR CATEGORIA"
      ],
      "metadata": {
        "id": "6z0V9mrOEYUP"
      }
    },
    {
      "cell_type": "code",
      "source": [
        "plt.figure(figsize=(10,6))\n",
        "sns.barplot(x='categoria', y='total_venta', data=df, estimator=sum, ci=None)\n",
        "plt.xticks(rotation=90)\n",
        "plt.title('Ventas por categoria')\n",
        "plt.xlabel('Categoria')"
      ],
      "metadata": {
        "colab": {
          "base_uri": "https://localhost:8080/",
          "height": 743
        },
        "id": "wo6HlymqDNZI",
        "outputId": "83610f91-5aea-4aa6-d25d-682fdf44ee86"
      },
      "execution_count": 41,
      "outputs": [
        {
          "output_type": "stream",
          "name": "stderr",
          "text": [
            "/tmp/ipython-input-351784961.py:2: FutureWarning: \n",
            "\n",
            "The `ci` parameter is deprecated. Use `errorbar=None` for the same effect.\n",
            "\n",
            "  sns.barplot(x='categoria', y='total_venta', data=df, estimator=sum, ci=None)\n"
          ]
        },
        {
          "output_type": "execute_result",
          "data": {
            "text/plain": [
              "Text(0.5, 0, 'Categoria')"
            ]
          },
          "metadata": {},
          "execution_count": 41
        },
        {
          "output_type": "display_data",
          "data": {
            "text/plain": [
              "<Figure size 1000x600 with 1 Axes>"
            ],
            "image/png": "[encoded data removed]"
          },
          "metadata": {}
        }
      ]
    },
    {
      "cell_type": "markdown",
      "source": [
        "###CUIDADES CON MAS VENTAS"
      ],
      "metadata": {
        "id": "oVKp1WEXQdN-"
      }
    },
    {
      "cell_type": "code",
      "source": [
        "desconocido= \"Desconocido\"\n",
        "\n",
        "plt.figure(figsize=(10,6))\n",
        "topciudades = df[df['ciudad']!= desconcido].groupby('ciudad')['total_venta'].sum().sort_values(ascending=False).head(5)\n",
        "\n",
        "\n",
        "sns.barplot(y=topciudades.index , x=topciudades.values)\n",
        "plt.title('Ciudades con mas ventas')"
      ],
      "metadata": {
        "colab": {
          "base_uri": "https://localhost:8080/",
          "height": 580
        },
        "id": "4ooJXvcoDOk4",
        "outputId": "5b5a662b-aba9-47dc-eb96-398ede728601"
      },
      "execution_count": 51,
      "outputs": [
        {
          "output_type": "execute_result",
          "data": {
            "text/plain": [
              "Text(0.5, 1.0, 'Ciudades con mas ventas')"
            ]
          },
          "metadata": {},
          "execution_count": 51
        },
        {
          "output_type": "display_data",
          "data": {
            "text/plain": [
              "<Figure size 1000x600 with 1 Axes>"
            ],
            "image/png": "[encoded data removed]"
          },
          "metadata": {}
        }
      ]
    },
    {
      "cell_type": "markdown",
      "source": [
        "observaciones: como tenemos varias cuidades que en el tratamiendo de datos figuran como \"Desconocido\" lo excluimos del grafico ya que no sabemos que cuidad puede ser"
      ],
      "metadata": {
        "id": "-ZPbCH8RGca7"
      }
    },
    {
      "cell_type": "markdown",
      "source": [
        "### VENTAS POR MES"
      ],
      "metadata": {
        "id": "1zT1Ks0uGxxT"
      }
    },
    {
      "cell_type": "code",
      "source": [
        "plt.figure(figsize=(10,6))\n",
        "evolucion_ventas = df.groupby('año/mes')['total_venta'].sum()\n",
        "evolucion_ventas.plot(marker='o')\n",
        "plt.title('Evolucion de ventas a lo largo del tiempo')\n",
        "plt.xlabel('Año/mes')\n"
      ],
      "metadata": {
        "id": "vSG7lM_9DORH",
        "colab": {
          "base_uri": "https://localhost:8080/",
          "height": 597
        },
        "outputId": "cb202f2b-8dd0-4cca-fec1-e826e9ddaa3b"
      },
      "execution_count": 53,
      "outputs": [
        {
          "output_type": "execute_result",
          "data": {
            "text/plain": [
              "Text(0.5, 0, 'Año/mes')"
            ]
          },
          "metadata": {},
          "execution_count": 53
        },
        {
          "output_type": "display_data",
          "data": {
            "text/plain": [
              "<Figure size 1000x600 with 1 Axes>"
            ],
            "image/png": "[encoded data removed]"
          },
          "metadata": {}
        }
      ]
    },
    {
      "cell_type": "code",
      "source": [
        "ventas_por_categoria = df.groupby('categoria')['total_venta'].sum()\n",
        "participacion_categorias = (ventas_por_categoria / ventas_por_categoria.sum()) * 100"
      ],
      "metadata": {
        "id": "v0Rl7qQ4POb2"
      },
      "execution_count": 67,
      "outputs": []
    },
    {
      "cell_type": "code",
      "source": [
        "#participacion_categorias = ((df.groupby(\"categoria\")[\"total_venta\"].sum()) /( total_ventas * 100))\n",
        "categoria_top = df.groupby('categoria')['total_venta'].idxmax()"
      ],
      "metadata": {
        "id": "7DDoBEN6LEaE"
      },
      "execution_count": 70,
      "outputs": []
    },
    {
      "cell_type": "code",
      "source": [
        "print(\"📊 MÉTRICAS RESUMEN\")\n",
        "print(f\"💰 Total de ventas: ${total_ventas:,.2f}\")\n",
        "print(f\"🧾 Ticket promedio: ${tk_promedio:,.2f}\")\n",
        "print(f\"📈 Margen total estimado: ${margen_total:,.2f}\")\n",
        "print(f\"🏆 Categoría líder en ventas: {categoria_top}\")\n",
        "print(\"\\n% de participación por categoría:\\n\", participacion_categorias)"
      ],
      "metadata": {
        "id": "KfFguHSdDOOV",
        "colab": {
          "base_uri": "https://localhost:8080/"
        },
        "outputId": "9ea06cc0-2930-431a-e0de-e268ca1cdbb4"
      },
      "execution_count": 71,
      "outputs": [
        {
          "output_type": "stream",
          "name": "stdout",
          "text": [
            "📊 MÉTRICAS RESUMEN\n",
            "💰 Total de ventas: $11,694,537.10\n",
            "🧾 Ticket promedio: $6,171.26\n",
            "📈 Margen total estimado: $2,338,907.38\n",
            "🏆 Categoría líder en ventas: categoria\n",
            "Desconocido     577\n",
            "Electrónica      91\n",
            "Muebles        1230\n",
            "Oficina        1562\n",
            "Tecnología     1776\n",
            "Name: total_venta, dtype: int64\n",
            "\n",
            "% de participación por categoría:\n",
            " categoria\n",
            "Desconocido     4.410042\n",
            "Electrónica    38.494699\n",
            "Muebles        20.253913\n",
            "Oficina         9.817645\n",
            "Tecnología     27.023700\n",
            "Name: total_venta, dtype: float64\n"
          ]
        }
      ]
    },
    {
      "cell_type": "markdown",
      "source": [
        "🧾 MÉTRICAS RESUMEN – ANÁLISIS DE VENTAS\n",
        "📊 Resumen general\n",
        "\n",
        "Total de ventas: $11.694.537,10\n",
        "\n",
        "Ticket promedio: $6.171,26\n",
        "\n",
        "Margen total estimado: $2.338.907,38\n",
        "\n",
        "Estas cifras reflejan un nivel de ventas sólido con un margen promedio cercano al 20%, lo que sugiere una estructura comercial rentable. El ticket promedio indica un valor medio de transacción estable dentro del rango esperado para el tipo de productos ofrecidos.\n",
        "\n",
        "🏆 Categoría líder en ventas\n",
        "\n",
        "Tecnología lidera las ventas con el 27,0 % del total, seguida de Electrónica (38,5 %), Muebles (20,3 %), y Oficina (9,8 %).\n",
        "\n",
        "El grupo “Desconocido” (4,4 %) representa registros con datos faltantes o mal categorizados, lo que sugiere la necesidad de mejorar la calidad de los datos en el proceso ETL.\n",
        "\n",
        "📈 Conclusión:\n",
        "La concentración de ventas en Tecnología y Electrónica (65 % del total) muestra una clara dependencia del segmento tecnológico. Esto puede ser una oportunidad para potenciar esas líneas o diversificar hacia categorías menos representadas como Muebles u Oficina.\n",
        "\n",
        "💡 Recomendaciones\n",
        "\n",
        "Limpieza de datos: eliminar o reclasificar la categoría “Desconocido” para mejorar la precisión de las métricas.\n",
        "\n",
        "Estrategia comercial:\n",
        "\n",
        "Focalizar esfuerzos en Tecnología y Electrónica (mayor aporte de ingresos).\n",
        "\n",
        "Evaluar campañas o descuentos en Oficina y Muebles para equilibrar el mix de ventas.\n",
        "\n",
        "Análisis adicional:\n",
        "\n",
        "Incorporar métricas de evolución temporal (ventas por mes/trimestre).\n",
        "\n",
        "Evaluar ticket promedio por categoría para identificar márgenes más rentables.\n",
        "\n",
        "🧩 Ejemplo de cómo presentarlo en tu README\n",
        "## 📊 Métricas principales\n",
        "| Indicador | Valor |\n",
        "|------------|------------|\n",
        "| 💰 Total de ventas | $11.694.537,10 |\n",
        "| 🧾 Ticket promedio | $6.171,26 |\n",
        "| 📈 Margen total estimado | $2.338.907,38 |\n",
        "\n",
        "## 🏆 Participación por categoría\n",
        "| Categoría | Participación (%) |\n",
        "|------------|------------------|\n",
        "| Electrónica | 38,49 |\n",
        "| Tecnología | 27,02 |\n",
        "| Muebles | 20,25 |\n",
        "| Oficina | 9,82 |\n",
        "| Desconocido | 4,41 |\n",
        "\n",
        "> 💬 *Conclusión:* El 65 % de las ventas se concentran en productos tecnológicos, evidenciando una fuerte dependencia de ese segmento. Se recomienda fortalecer la gestión de datos y diversificar la oferta de categorías."
      ],
      "metadata": {
        "id": "LfchRrzhTB3Q"
      }
    },
    {
      "cell_type": "code",
      "source": [],
      "metadata": {
        "id": "DAnxYNZ7DOLm"
      },
      "execution_count": 42,
      "outputs": []
    },
    {
      "cell_type": "code",
      "source": [],
      "metadata": {
        "id": "3jLBl2jhDOIw"
      },
      "execution_count": 42,
      "outputs": []
    }
  ]
}